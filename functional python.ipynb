{
 "cells": [
  {
   "cell_type": "markdown",
   "metadata": {},
   "source": [
    "# Python in a Functional Style\n",
    "\n",
    "Artificial Intelligence courses traditionally used Lisp as their programming language of choice and although some courses across the world still do, it isn't nearly as popular as it once was. Lisp has a few interesting features. First, it is a functional language. Second, it views code as data and data as code. Third, it offered a meta programming feature called \"macros\" that made the language very flexible. Long before Domain Specific Languages (DSL) became hip, \"Lispers\" were writing programs composed entirely of DSLs.\n",
    "\n",
    "While Lisp's fortunes in AI have waned, *functional* programming is definitely making a comeback. With Haskell, Elixir, F#, Clojure, Scala and others, functional programming is experiencing a renaissance and it seems like a new one is making its debut each month. There are quite a few reasons why. I think the main reason is summed up in Steve Yegge's post, [The Kingdom of Nouns](http://steve-yegge.blogspot.com/2006/03/execution-in-kingdom-of-nouns.html). For a very ranty but not wrong video watch [Object-Oriented Programming is Bad](https://www.youtube.com/watch?v=QM1iUe6IofM). For a more measured approach, there is [Clojure, Made Simple](https://www.youtube.com/watch?v=VSdnJDO-xdg) that explains, at least, Clojure's rationale vis-a-vis OOP.\n",
    "\n",
    "I'm sorry I probably hurt your feelings. It is very likely you never had to be convinced to use OOP in the first place so think how *I* feel. I cut my teeth on Java and read Bruce Eckel's *Thinking in Objects* that tried to convey how OOP was to be done correctly. But OMG, writing Java was painful (it *has* gotten a bit better).\n",
    "\n",
    "At some point, I moved to Ruby which was a breath of fresh air. Ruby is a bit closer to SmallTalk, the original OOP language. Surprisingly, Ruby also has some strong functional programming aspects (see [Why Ruby is an acceptable Lisp](http://www.randomhacks.net/2005/12/03/why-ruby-is-an-acceptable-lisp/)). Eventually I found Clojure and was eventually sold. In many ways, this document shows why Python is an acceptable Lisp (with a few additional Libraries it *is* Lisp). In any case, it's worth learning a bit of functional programming. You will at least be a better OOP programmer in the end. You are getting a Computer Science degree.\n",
    "\n",
    "Still, learning *both* AI and functional programming can be a bit of a challenge. Rather than introduce S-expressions and State Space Search, I'm opting for a more middle of the road approach. This class will use Python as the official language (2.7.X) but you must use it in a \"functional style\". That's right...OOP is forbidden in this class unless you are using a standard library. This is possible because Python is not a pure OOP language (like Java). It's entirely possible to write programs composed entirely of \"free\" functions without any classes.\n",
    "\n",
    "Don't panic! Grab your towel and start reading this notebook. It will attempt to walk you through the basic principles of a functional style of Python. I think you will find the approach rather agreeable.\n",
    "\n",
    "When I think of Functional Programming, several things come to mind although these are not universally true of all functional programming languages.\n",
    "\n",
    "1. Functions are first class values, independent of Classes or Types.\n",
    "2. Data modeling with generic data structures: lists, sets, dictionaries, tuples instead of Classes.\n",
    "3. Operations such as iteration are replaced with higher level oft repeated abstractions such as map, filter and reduce.\n",
    "\n",
    "Often *immutable* data structures are included in this list. We'll see about that. Most of the built-in collections in Python are *mutable* (except for Tuples) and while there are libraries to inject *immutable* versions of the standard data structures, we might not go quite that far.\n",
    "\n",
    "At a higher level, we can say the Functional Programming approach constructs programs by building up small easily testable *pure* functions into a domain specific language (DSL) for the problem at hand called by *impure* functions at the edges of the program. This can be done either in a top-down (start with the main entry function) or bottom-up (start with the lowest level pieces) fashion. Gerald Sussman in *The Structure and Interpretation of Computer Programs* called the top-down approach \"programming by wishful thinking\". All will be made clear in time.\n",
    "\n",
    "But first, since not everyone may be familiar with Python in general, let's start with a refresher of the basics. I assume that you can program in *some* language, probably Java but maybe Ruby and that *variable* isn't mysterious to you."
   ]
  },
  {
   "cell_type": "markdown",
   "metadata": {},
   "source": [
    "## Basic Python\n",
    "\n",
    "Most programming languages are made up of basic constituents that we assemble to make programs. This includes basic data types (\"primitives\") for numbers and strings, operators for those basic types like addition or multiplication, and collections. The bundling of code into reusable units, most generally called procedures but also called functions or methods. There is also flow control and iteration. We'll review all of these here.\n",
    "\n",
    "### Python Types and Operations\n",
    "\n",
    "We'll start with the basic numeric, string and boolean primitive data types:"
   ]
  },
  {
   "cell_type": "code",
   "execution_count": 1,
   "metadata": {
    "collapsed": false
   },
   "outputs": [
    {
     "data": {
      "text/plain": [
       "int"
      ]
     },
     "execution_count": 1,
     "metadata": {},
     "output_type": "execute_result"
    }
   ],
   "source": [
    "type( 2)"
   ]
  },
  {
   "cell_type": "code",
   "execution_count": 2,
   "metadata": {
    "collapsed": false
   },
   "outputs": [
    {
     "data": {
      "text/plain": [
       "float"
      ]
     },
     "execution_count": 2,
     "metadata": {},
     "output_type": "execute_result"
    }
   ],
   "source": [
    "type( 2.1)"
   ]
  },
  {
   "cell_type": "code",
   "execution_count": 3,
   "metadata": {
    "collapsed": false
   },
   "outputs": [
    {
     "data": {
      "text/plain": [
       "str"
      ]
     },
     "execution_count": 3,
     "metadata": {},
     "output_type": "execute_result"
    }
   ],
   "source": [
    "type (\"python\")"
   ]
  },
  {
   "cell_type": "markdown",
   "metadata": {},
   "source": [
    "It is worth noting that like Ruby, Python has many different ways of specifying Strings which include single quotes, double quotes and three double quotes. The last has a special meaning that we'll delve into later."
   ]
  },
  {
   "cell_type": "code",
   "execution_count": 4,
   "metadata": {
    "collapsed": false
   },
   "outputs": [
    {
     "data": {
      "text/plain": [
       "bool"
      ]
     },
     "execution_count": 4,
     "metadata": {},
     "output_type": "execute_result"
    }
   ],
   "source": [
    "type( True)"
   ]
  },
  {
   "cell_type": "code",
   "execution_count": 5,
   "metadata": {
    "collapsed": false
   },
   "outputs": [
    {
     "data": {
      "text/plain": [
       "complex"
      ]
     },
     "execution_count": 5,
     "metadata": {},
     "output_type": "execute_result"
    }
   ],
   "source": [
    "type( 3 + 7j)"
   ]
  },
  {
   "cell_type": "code",
   "execution_count": 6,
   "metadata": {
    "collapsed": false
   },
   "outputs": [
    {
     "data": {
      "text/plain": [
       "NoneType"
      ]
     },
     "execution_count": 6,
     "metadata": {},
     "output_type": "execute_result"
    }
   ],
   "source": [
    "type( None)"
   ]
  },
  {
   "cell_type": "markdown",
   "metadata": {},
   "source": [
    "As an aside, Jupyter Notebook automatically prints the last value produced by a code cell which might be `None` which is Python's *null* or *nil*.\n",
    "\n",
    "It is worth noting that the \"natural\" floating point of type of Python is `float`, not `double` as it is in many languages. Additionally, Python uses `j` for the square root of -1 instead of `i`.\n",
    "\n",
    "\n",
    "<div style=\"border: 1px solid black; padding: 10px 10px 10px 10px; margin-top: 10px;\">\n",
    "<p><strong>Exercise</strong></p>\n",
    "<p>While not a basic type, find the documentation for Python's type for dates/times.</p>\n",
    "</div>"
   ]
  },
  {
   "cell_type": "markdown",
   "metadata": {},
   "source": [
    "### Python Operations on Basic Types\n",
    "\n",
    "Python supports operations on all the basic types you might imagine but there are a few \"gotchas\"."
   ]
  },
  {
   "cell_type": "code",
   "execution_count": 7,
   "metadata": {
    "collapsed": false
   },
   "outputs": [
    {
     "data": {
      "text/plain": [
       "4"
      ]
     },
     "execution_count": 7,
     "metadata": {},
     "output_type": "execute_result"
    }
   ],
   "source": [
    "2 + 2"
   ]
  },
  {
   "cell_type": "code",
   "execution_count": 8,
   "metadata": {
    "collapsed": false
   },
   "outputs": [
    {
     "data": {
      "text/plain": [
       "4.0"
      ]
     },
     "execution_count": 8,
     "metadata": {},
     "output_type": "execute_result"
    }
   ],
   "source": [
    "2 + 2.0"
   ]
  },
  {
   "cell_type": "code",
   "execution_count": 9,
   "metadata": {
    "collapsed": false
   },
   "outputs": [
    {
     "data": {
      "text/plain": [
       "4"
      ]
     },
     "execution_count": 9,
     "metadata": {},
     "output_type": "execute_result"
    }
   ],
   "source": [
    "2 * 2"
   ]
  },
  {
   "cell_type": "code",
   "execution_count": 10,
   "metadata": {
    "collapsed": false
   },
   "outputs": [
    {
     "data": {
      "text/plain": [
       "6.0"
      ]
     },
     "execution_count": 10,
     "metadata": {},
     "output_type": "execute_result"
    }
   ],
   "source": [
    "2 * 3.0"
   ]
  },
  {
   "cell_type": "markdown",
   "metadata": {},
   "source": [
    "<div style=\"border: 1px solid black; padding: 10px 10px 10px 10px; margin-top: 10px;\">\n",
    "<p><strong>Exercise</strong></p>\n",
    "<p>Find a reference for all of Python's operators.  You may find some surprises here and there. For example, <tt>&</tt> and <tt>and</tt> are not the same thing.</p>\n",
    "</div>"
   ]
  },
  {
   "cell_type": "markdown",
   "metadata": {},
   "source": [
    "Here we can see type promotion when a `float` and `int` are combined in an expression. This doesn't always happen as expected:"
   ]
  },
  {
   "cell_type": "code",
   "execution_count": 11,
   "metadata": {
    "collapsed": false
   },
   "outputs": [
    {
     "data": {
      "text/plain": [
       "0"
      ]
     },
     "execution_count": 11,
     "metadata": {},
     "output_type": "execute_result"
    }
   ],
   "source": [
    "2 / 3"
   ]
  },
  {
   "cell_type": "code",
   "execution_count": 12,
   "metadata": {
    "collapsed": false
   },
   "outputs": [
    {
     "data": {
      "text/plain": [
       "0.6666666666666666"
      ]
     },
     "execution_count": 12,
     "metadata": {},
     "output_type": "execute_result"
    }
   ],
   "source": [
    "2 / 3.0"
   ]
  },
  {
   "cell_type": "markdown",
   "metadata": {},
   "source": [
    "If you want the first expression to work correctly, as in Python 3, you can import \"the future\":"
   ]
  },
  {
   "cell_type": "code",
   "execution_count": 13,
   "metadata": {
    "collapsed": true
   },
   "outputs": [],
   "source": [
    "from __future__ import division"
   ]
  },
  {
   "cell_type": "code",
   "execution_count": 14,
   "metadata": {
    "collapsed": false
   },
   "outputs": [
    {
     "data": {
      "text/plain": [
       "0.6666666666666666"
      ]
     },
     "execution_count": 14,
     "metadata": {},
     "output_type": "execute_result"
    }
   ],
   "source": [
    "2 / 3"
   ]
  },
  {
   "cell_type": "markdown",
   "metadata": {},
   "source": [
    "That import should be in every program you write. It'll save you a ton of headaches later."
   ]
  },
  {
   "cell_type": "code",
   "execution_count": 15,
   "metadata": {
    "collapsed": false
   },
   "outputs": [
    {
     "data": {
      "text/plain": [
       "'23'"
      ]
     },
     "execution_count": 15,
     "metadata": {},
     "output_type": "execute_result"
    }
   ],
   "source": [
    "\"2\" + \"3\""
   ]
  },
  {
   "cell_type": "markdown",
   "metadata": {},
   "source": [
    "Here we see that `+` is semantically overloaded to mean \"append\" as well as \"addition\" when the arguments are strings. However, you will see below that when the arguments are of mixed types, there is no automatic type promotion:"
   ]
  },
  {
   "cell_type": "code",
   "execution_count": 16,
   "metadata": {
    "collapsed": false
   },
   "outputs": [
    {
     "name": "stdout",
     "output_type": "stream",
     "text": [
      "Exception (<type 'exceptions.TypeError'>): unsupported operand type(s) for +: 'int' and 'str'\n"
     ]
    }
   ],
   "source": [
    "try:\n",
    "    2 + \"2\"\n",
    "except Exception as e:\n",
    "    print \"Exception (%s): %s\" % (type(e), str(e))"
   ]
  },
  {
   "cell_type": "markdown",
   "metadata": {},
   "source": [
    "Note that I knew this would fail so I wrapped the `2 + \"2\"` expression in a `try/except` block. We'll talk about that later.\n",
    "\n",
    "#### Casting \n",
    "\n",
    "In this case, you will need to *cast* the `int`:"
   ]
  },
  {
   "cell_type": "code",
   "execution_count": 17,
   "metadata": {
    "collapsed": false
   },
   "outputs": [
    {
     "data": {
      "text/plain": [
       "'22'"
      ]
     },
     "execution_count": 17,
     "metadata": {},
     "output_type": "execute_result"
    }
   ],
   "source": [
    "str( 2) + \"2\""
   ]
  },
  {
   "cell_type": "markdown",
   "metadata": {},
   "source": [
    "There are a variety of casting functions:"
   ]
  },
  {
   "cell_type": "code",
   "execution_count": 18,
   "metadata": {
    "collapsed": false
   },
   "outputs": [
    {
     "data": {
      "text/plain": [
       "2"
      ]
     },
     "execution_count": 18,
     "metadata": {},
     "output_type": "execute_result"
    }
   ],
   "source": [
    "int(\"2\")"
   ]
  },
  {
   "cell_type": "code",
   "execution_count": 19,
   "metadata": {
    "collapsed": false
   },
   "outputs": [
    {
     "data": {
      "text/plain": [
       "2.0"
      ]
     },
     "execution_count": 19,
     "metadata": {},
     "output_type": "execute_result"
    }
   ],
   "source": [
    "float( \"2\")"
   ]
  },
  {
   "cell_type": "code",
   "execution_count": 20,
   "metadata": {
    "collapsed": false
   },
   "outputs": [
    {
     "data": {
      "text/plain": [
       "50"
      ]
     },
     "execution_count": 20,
     "metadata": {},
     "output_type": "execute_result"
    }
   ],
   "source": [
    "ord( \"2\")"
   ]
  },
  {
   "cell_type": "markdown",
   "metadata": {},
   "source": [
    "The last one might be a bit cryptic...the UTF-8 code for \"2\" is 50. In order to go the other way, we do:"
   ]
  },
  {
   "cell_type": "code",
   "execution_count": 21,
   "metadata": {
    "collapsed": false
   },
   "outputs": [
    {
     "data": {
      "text/plain": [
       "'2'"
      ]
     },
     "execution_count": 21,
     "metadata": {},
     "output_type": "execute_result"
    }
   ],
   "source": [
    "chr( 50)"
   ]
  },
  {
   "cell_type": "markdown",
   "metadata": {},
   "source": [
    "Because we often interact with simple programs at the console/terminal, string formatting is often very important. Python sports several ways of doing string formatting.\n",
    "\n",
    "#### C-style String Formatting.\n",
    "\n",
    "This uses the `%` operator."
   ]
  },
  {
   "cell_type": "code",
   "execution_count": 22,
   "metadata": {
    "collapsed": false
   },
   "outputs": [
    {
     "data": {
      "text/plain": [
       "'pi to 4 decimals is 3.1416'"
      ]
     },
     "execution_count": 22,
     "metadata": {},
     "output_type": "execute_result"
    }
   ],
   "source": [
    "\"pi to 4 decimals is %0.4f\" % 3.14159265359"
   ]
  },
  {
   "cell_type": "code",
   "execution_count": 23,
   "metadata": {
    "collapsed": false
   },
   "outputs": [
    {
     "data": {
      "text/plain": [
       "'Hello Student, I hope you love Python'"
      ]
     },
     "execution_count": 23,
     "metadata": {},
     "output_type": "execute_result"
    }
   ],
   "source": [
    "\"Hello %s, I hope you love %s\" % (\"Student\", \"Python\")"
   ]
  },
  {
   "cell_type": "markdown",
   "metadata": {},
   "source": [
    "#### Python String Formatting.\n",
    "\n",
    "This uses the `format` function."
   ]
  },
  {
   "cell_type": "code",
   "execution_count": 24,
   "metadata": {
    "collapsed": false
   },
   "outputs": [
    {
     "data": {
      "text/plain": [
       "'pi to 4 decimals is 3.1416'"
      ]
     },
     "execution_count": 24,
     "metadata": {},
     "output_type": "execute_result"
    }
   ],
   "source": [
    "\"pi to 4 decimals is {:0.4f}\".format( 3.14159265359)"
   ]
  },
  {
   "cell_type": "code",
   "execution_count": 25,
   "metadata": {
    "collapsed": false
   },
   "outputs": [
    {
     "data": {
      "text/plain": [
       "'Hello Student, I hope you love Python'"
      ]
     },
     "execution_count": 25,
     "metadata": {},
     "output_type": "execute_result"
    }
   ],
   "source": [
    "\"Hello {0}, I hope you love {1}\".format( \"Student\", \"Python\")"
   ]
  },
  {
   "cell_type": "markdown",
   "metadata": {},
   "source": [
    "Which style to use is a bit contentious in my mind. Many other programming languages use the C-style formatting and so you only need to learn one string formatting DSL. On the other hand, the `%` version has been deprecated in Python 3 so...you can name your own poison. The newer version is a lot more flexible allowing for reuse of values as well as named values. You can find more documentation here: [Python String Formatting](https://docs.python.org/2/library/string.html#format-string-syntax).\n",
    "\n",
    "**Ultimately, for your assignments, the important part is that you print out *exactly* what is requested since many parts will be automatically graded. Failure to follow directions is still failure.**"
   ]
  },
  {
   "cell_type": "markdown",
   "metadata": {},
   "source": [
    "## Python Collections\n",
    "\n",
    "Python has a large number of data structures or *collections*. We will cover each one and the basic operations of each. You should refer to the documentation of each for more information.\n",
    "\n",
    "\n",
    "### List\n",
    "\n",
    "The most basic collection is a List. The constructor function for a list is `list`. An empty list can also be created with `[]` or `list()`. There are a few cases where using `list()` is *required* or Bad Things happen."
   ]
  },
  {
   "cell_type": "code",
   "execution_count": 26,
   "metadata": {
    "collapsed": false
   },
   "outputs": [
    {
     "name": "stdout",
     "output_type": "stream",
     "text": [
      "[1, 2, 'a', True]\n"
     ]
    }
   ],
   "source": [
    "a = [1, 2, \"a\", True]\n",
    "print a"
   ]
  },
  {
   "cell_type": "markdown",
   "metadata": {},
   "source": [
    "Technically, I do not need the `print a` above, I could just put `a` and it would print out because that's the last expression in the codecell...but it looks weird. I will generally be verbose and use `print` even when I do not need to.\n",
    "\n",
    "Above we see a list of four items. We note that they do not all have to be of the same type. We add to a List with `append`:"
   ]
  },
  {
   "cell_type": "code",
   "execution_count": 27,
   "metadata": {
    "collapsed": false
   },
   "outputs": [
    {
     "name": "stdout",
     "output_type": "stream",
     "text": [
      "None\n"
     ]
    }
   ],
   "source": [
    "print a.append( \"foo\")"
   ]
  },
  {
   "cell_type": "markdown",
   "metadata": {},
   "source": [
    "Jupyter Notebook is designed to *not* print out whatever a language's version of \"nothing\" is. Without the `print` statement above, we would not have seen the `None`. I wanted to show you the `None` because it illustrates an important \"gotcha\" in Python. Guido van Rossum does *not* believe in fluent interfaces.\n",
    "\n",
    "A Fluent Interface typically returns the modified object so that you can call another function on it. Another name for this is method chaining. They are popular in Java, C# and Ruby and some 3rd Party Python libraries do it as well...but not the standard Python libraries.\n",
    "\n",
    "Our expectation is that `a.append(\"foo\")` will return `a` with `\"foo\"` appended to it basically so we can do something else to `a`. For example, we might append something else and then sort the list. Guido will have none of that:"
   ]
  },
  {
   "cell_type": "code",
   "execution_count": 28,
   "metadata": {
    "collapsed": false
   },
   "outputs": [
    {
     "name": "stdout",
     "output_type": "stream",
     "text": [
      "[1, 2, 'a', True, 'foo']\n"
     ]
    }
   ],
   "source": [
    "print a"
   ]
  },
  {
   "cell_type": "code",
   "execution_count": 29,
   "metadata": {
    "collapsed": false
   },
   "outputs": [
    {
     "name": "stdout",
     "output_type": "stream",
     "text": [
      "Exception: 'NoneType' object has no attribute 'append'\n"
     ]
    }
   ],
   "source": [
    "try:\n",
    "    print a.append( \"bar\").append( \"baz\").sort()\n",
    "except Exception as e:\n",
    "    print \"Exception: \" + str( e)"
   ]
  },
  {
   "cell_type": "markdown",
   "metadata": {},
   "source": [
    "This can often be a really inscrutable error but if you break it apart you get the following:\n",
    "\n",
    "```python\n",
    "result1 = a.append( \"bar\")\n",
    "result2 = result1.append( \"baz\")\n",
    "result3 = result2.sort()\n",
    "```\n",
    "\n",
    "The problem is that `result2` is not a List but `None` which does not have a method named `append`.\n",
    "\n",
    "Instead you must make each call separately and note that there is no \"result\" to save, `a` is being modified *in place*:"
   ]
  },
  {
   "cell_type": "code",
   "execution_count": 30,
   "metadata": {
    "collapsed": false
   },
   "outputs": [
    {
     "name": "stdout",
     "output_type": "stream",
     "text": [
      "[1, True, 2, 'a', 'bar', 'foo']\n"
     ]
    }
   ],
   "source": [
    "a = [1, 2, \"a\", True]\n",
    "a.append( \"foo\")\n",
    "a.append( \"bar\")\n",
    "a.sort()\n",
    "print a"
   ]
  },
  {
   "cell_type": "markdown",
   "metadata": {},
   "source": [
    "There is a second \"gotcha\" in Python. In the bad old days when words meant something, a *function* was a procedure that was not attached to any object whereas a *method* was a procedure that operated on an object (actually, in Smalltalk these were called \"messages\", you sent a \"message\" to an object).\n",
    "\n",
    "Keeping this distinction in mind, it is important to know that some procedures involving collections are functions and some are methods. For example, `append` is a method of `List`. However, to get the length of a collection you use the `len` function, not the `len` method:"
   ]
  },
  {
   "cell_type": "code",
   "execution_count": 31,
   "metadata": {
    "collapsed": false
   },
   "outputs": [
    {
     "data": {
      "text/plain": [
       "6"
      ]
     },
     "execution_count": 31,
     "metadata": {},
     "output_type": "execute_result"
    }
   ],
   "source": [
    "len( a)"
   ]
  },
  {
   "cell_type": "markdown",
   "metadata": {},
   "source": [
    "This can be confusing for people coming from Ruby who expect to be doing something like `a.length()` or `a.count()`. That won't work. There are a number of reasons for this that go deep into the philosophy of Python by somewhat derail our present goal so we will not go into it. Suffice it to say that anything that can have a length implements the method `__len__` and the function `len` just delegates to that. This pattern is used throughout Python.\n",
    "\n",
    "A List is a random access indexed collection so we can get any individual element we want in the typical way:"
   ]
  },
  {
   "cell_type": "code",
   "execution_count": 32,
   "metadata": {
    "collapsed": false
   },
   "outputs": [
    {
     "data": {
      "text/plain": [
       "1"
      ]
     },
     "execution_count": 32,
     "metadata": {},
     "output_type": "execute_result"
    }
   ],
   "source": [
    "a[ 0]"
   ]
  },
  {
   "cell_type": "code",
   "execution_count": 33,
   "metadata": {
    "collapsed": false
   },
   "outputs": [
    {
     "data": {
      "text/plain": [
       "True"
      ]
     },
     "execution_count": 33,
     "metadata": {},
     "output_type": "execute_result"
    }
   ],
   "source": [
    "a[ 1]"
   ]
  },
  {
   "cell_type": "code",
   "execution_count": 34,
   "metadata": {
    "collapsed": false
   },
   "outputs": [
    {
     "data": {
      "text/plain": [
       "'foo'"
      ]
     },
     "execution_count": 34,
     "metadata": {},
     "output_type": "execute_result"
    }
   ],
   "source": [
    "a[-1]"
   ]
  },
  {
   "cell_type": "markdown",
   "metadata": {},
   "source": [
    "Yes, negative indices are permitted and they start from the end. In addition to integer indices, it is possibly to use *slices*:"
   ]
  },
  {
   "cell_type": "code",
   "execution_count": 35,
   "metadata": {
    "collapsed": false
   },
   "outputs": [
    {
     "data": {
      "text/plain": [
       "[True, 2]"
      ]
     },
     "execution_count": 35,
     "metadata": {},
     "output_type": "execute_result"
    }
   ],
   "source": [
    "a[1:3]"
   ]
  },
  {
   "cell_type": "markdown",
   "metadata": {},
   "source": [
    "which returns a *slice* of the List `a` starting at index 1 (inclusive) and going to index 3 (exclusive). You can leave off the last number if you simply want to go to the end:"
   ]
  },
  {
   "cell_type": "code",
   "execution_count": 36,
   "metadata": {
    "collapsed": false
   },
   "outputs": [
    {
     "data": {
      "text/plain": [
       "[2, 'a', 'bar', 'foo']"
      ]
     },
     "execution_count": 36,
     "metadata": {},
     "output_type": "execute_result"
    }
   ],
   "source": [
    "a[2:]"
   ]
  },
  {
   "cell_type": "markdown",
   "metadata": {},
   "source": [
    "In Python, Lists are *mutable*, that is, you can change the value at specific locations as well as change the size. We have already seen examples of the latter. Let's look at the former:"
   ]
  },
  {
   "cell_type": "code",
   "execution_count": 37,
   "metadata": {
    "collapsed": false
   },
   "outputs": [
    {
     "name": "stdout",
     "output_type": "stream",
     "text": [
      "[1, True, 100, 'a', 'bar', 'foo']\n"
     ]
    }
   ],
   "source": [
    "a[2] = 100\n",
    "print a"
   ]
  },
  {
   "cell_type": "markdown",
   "metadata": {},
   "source": [
    "There is also a function for this `insert`. You can also remove items by either removing the actual value with `remove` which removes the first occurrence of the value from the list:"
   ]
  },
  {
   "cell_type": "code",
   "execution_count": 38,
   "metadata": {
    "collapsed": false
   },
   "outputs": [
    {
     "name": "stdout",
     "output_type": "stream",
     "text": [
      "[1, True, 'a', 'bar', 'foo']\n"
     ]
    }
   ],
   "source": [
    "a.remove( 100)\n",
    "print a"
   ]
  },
  {
   "cell_type": "markdown",
   "metadata": {},
   "source": [
    "or `del` which removes the item at the index:"
   ]
  },
  {
   "cell_type": "code",
   "execution_count": 39,
   "metadata": {
    "collapsed": false
   },
   "outputs": [
    {
     "name": "stdout",
     "output_type": "stream",
     "text": [
      "[True, 'a', 'bar', 'foo']\n"
     ]
    }
   ],
   "source": [
    "del a[ 0]\n",
    "print a"
   ]
  },
  {
   "cell_type": "markdown",
   "metadata": {},
   "source": [
    "strangely, `del` is neither a function nor a method but a *statement* in the Python language. We will talk about the difference between statements and *expressions* later.\n",
    "\n",
    "### Tuple\n",
    "\n",
    "A Tuple is similar to a List except that it is *immutable*. Once the values are set, you cannot change them. The constructor function is `tuple`. There is no such thing as an empty Tuple. Tuples are incredibly useful in Python and you will see many places where Python automatically creates and consumes them."
   ]
  },
  {
   "cell_type": "code",
   "execution_count": 40,
   "metadata": {
    "collapsed": false
   },
   "outputs": [
    {
     "name": "stdout",
     "output_type": "stream",
     "text": [
      "(1, 2, True)\n"
     ]
    }
   ],
   "source": [
    "b = (1, 2, True)\n",
    "print b"
   ]
  },
  {
   "cell_type": "markdown",
   "metadata": {},
   "source": [
    "So far, a Tuple looks just like a List using parentheses instead of square brackets..."
   ]
  },
  {
   "cell_type": "code",
   "execution_count": 41,
   "metadata": {
    "collapsed": false
   },
   "outputs": [
    {
     "name": "stdout",
     "output_type": "stream",
     "text": [
      "Exception (<type 'exceptions.TypeError'>): 'tuple' object does not support item assignment\n"
     ]
    }
   ],
   "source": [
    "try:\n",
    "    b[ 0] = 3\n",
    "except Exception as e:\n",
    "    print \"Exception (%s): %s\" % (type(e), str(e))"
   ]
  },
  {
   "cell_type": "markdown",
   "metadata": {},
   "source": [
    "Nope. You can't change the value of any element of a Tuple. Of course, things can get a bit weird:"
   ]
  },
  {
   "cell_type": "code",
   "execution_count": 42,
   "metadata": {
    "collapsed": false
   },
   "outputs": [
    {
     "name": "stdout",
     "output_type": "stream",
     "text": [
      "(1, 2, [True, 'a', 'bar', 'foo'])\n"
     ]
    }
   ],
   "source": [
    "b = (1, 2, a)\n",
    "print b"
   ]
  },
  {
   "cell_type": "code",
   "execution_count": 43,
   "metadata": {
    "collapsed": true
   },
   "outputs": [],
   "source": [
    "a.append( 3)"
   ]
  },
  {
   "cell_type": "code",
   "execution_count": 44,
   "metadata": {
    "collapsed": false
   },
   "outputs": [
    {
     "data": {
      "text/plain": [
       "(1, 2, [True, 'a', 'bar', 'foo', 3])"
      ]
     },
     "execution_count": 44,
     "metadata": {},
     "output_type": "execute_result"
    }
   ],
   "source": [
    "b"
   ]
  },
  {
   "cell_type": "markdown",
   "metadata": {},
   "source": [
    "So while the Tuple itself is immutable, if an element of a Tuple is mutable, you can change *it*. You are **strongly** discouraged from doing so.\n",
    "\n",
    "One last thing that can be weird...you will sometimes need a Tuple of one element:"
   ]
  },
  {
   "cell_type": "code",
   "execution_count": 45,
   "metadata": {
    "collapsed": false
   },
   "outputs": [
    {
     "name": "stdout",
     "output_type": "stream",
     "text": [
      "1\n",
      "<type 'int'>\n"
     ]
    }
   ],
   "source": [
    "b1 = (1)\n",
    "print b1\n",
    "print type( b1)"
   ]
  },
  {
   "cell_type": "markdown",
   "metadata": {},
   "source": [
    "Huh, that did *not* go as planned. The trick is as follows:"
   ]
  },
  {
   "cell_type": "code",
   "execution_count": 46,
   "metadata": {
    "collapsed": false
   },
   "outputs": [
    {
     "name": "stdout",
     "output_type": "stream",
     "text": [
      "(1,)\n",
      "<type 'tuple'>\n"
     ]
    }
   ],
   "source": [
    "b1 = (1,)\n",
    "print b1\n",
    "print type( b1)"
   ]
  },
  {
   "cell_type": "markdown",
   "metadata": {},
   "source": [
    "See that extra comma, `(1,)`? That makes the difference.\n",
    "\n",
    "We will have more to say about Tuples later."
   ]
  },
  {
   "cell_type": "markdown",
   "metadata": {},
   "source": [
    "### Dict\n",
    "\n",
    "The Dict(ionary) is Python's Hash/Map/Hashmap collection. The contructor function is `dict` while the literal is `{}`:"
   ]
  },
  {
   "cell_type": "code",
   "execution_count": 47,
   "metadata": {
    "collapsed": false
   },
   "outputs": [
    {
     "name": "stdout",
     "output_type": "stream",
     "text": [
      "{'a': 1, 'b': 2}\n"
     ]
    }
   ],
   "source": [
    "c = {\"a\": 1, \"b\": 2}\n",
    "print c"
   ]
  },
  {
   "cell_type": "markdown",
   "metadata": {},
   "source": [
    "The *keys* of a Dictionary must be immutable (which makes sense since underneath, a hashing function is being used and changing the underlying value of the key would prevent it from being found).\n",
    "\n",
    "You can use square brackets to \"index\" a Dictionary by key or the function `get`. They have different semantics and usages. Here is square brackets:"
   ]
  },
  {
   "cell_type": "code",
   "execution_count": 48,
   "metadata": {
    "collapsed": false
   },
   "outputs": [
    {
     "data": {
      "text/plain": [
       "1"
      ]
     },
     "execution_count": 48,
     "metadata": {},
     "output_type": "execute_result"
    }
   ],
   "source": [
    "c[ \"a\"]"
   ]
  },
  {
   "cell_type": "code",
   "execution_count": 49,
   "metadata": {
    "collapsed": false
   },
   "outputs": [
    {
     "data": {
      "text/plain": [
       "2"
      ]
     },
     "execution_count": 49,
     "metadata": {},
     "output_type": "execute_result"
    }
   ],
   "source": [
    "c[ \"b\"]"
   ]
  },
  {
   "cell_type": "code",
   "execution_count": 50,
   "metadata": {
    "collapsed": false
   },
   "outputs": [
    {
     "name": "stdout",
     "output_type": "stream",
     "text": [
      "Exception (<type 'exceptions.KeyError'>): 'c'\n"
     ]
    }
   ],
   "source": [
    "try:\n",
    "    c[ \"c\"]\n",
    "except Exception as e:\n",
    "    print \"Exception (%s): %s\" % (type(e), str(e))"
   ]
  },
  {
   "cell_type": "markdown",
   "metadata": {},
   "source": [
    "so you will get a `KeyError` if the key does not exist. If you ever see an error that says that keys must be numbers, you have accidentally gotten a List where you expected a Dict.\n",
    "\n",
    "If you use `get` instead of square brackets for a non-existent key, you will get `None` instead of an error:"
   ]
  },
  {
   "cell_type": "code",
   "execution_count": 51,
   "metadata": {
    "collapsed": false
   },
   "outputs": [
    {
     "name": "stdout",
     "output_type": "stream",
     "text": [
      "None\n"
     ]
    }
   ],
   "source": [
    "print c.get( \"c\")"
   ]
  },
  {
   "cell_type": "markdown",
   "metadata": {},
   "source": [
    "which can also be a bit problematic because it's kind of a silent failure. `get` also allows you to provide a default value:"
   ]
  },
  {
   "cell_type": "code",
   "execution_count": 52,
   "metadata": {
    "collapsed": false
   },
   "outputs": [
    {
     "name": "stdout",
     "output_type": "stream",
     "text": [
      "1000\n"
     ]
    }
   ],
   "source": [
    "print c.get( \"c\", 1000)"
   ]
  },
  {
   "cell_type": "markdown",
   "metadata": {},
   "source": [
    "in which case, `get` redeems itself.\n",
    "\n",
    "Adding a new value to a Dictionary is as simple as assigning a value to a key:"
   ]
  },
  {
   "cell_type": "code",
   "execution_count": 53,
   "metadata": {
    "collapsed": false
   },
   "outputs": [
    {
     "name": "stdout",
     "output_type": "stream",
     "text": [
      "{'a': 1, 'b': 2, 'd': 'nargle'}\n"
     ]
    }
   ],
   "source": [
    "c[ \"d\"] = \"nargle\"\n",
    "print c"
   ]
  },
  {
   "cell_type": "markdown",
   "metadata": {},
   "source": [
    "and we can use `del` to remove a key:"
   ]
  },
  {
   "cell_type": "code",
   "execution_count": 54,
   "metadata": {
    "collapsed": false
   },
   "outputs": [
    {
     "name": "stdout",
     "output_type": "stream",
     "text": [
      "{'a': 1, 'b': 2}\n"
     ]
    }
   ],
   "source": [
    "del c[ \"d\"]\n",
    "print c"
   ]
  },
  {
   "cell_type": "markdown",
   "metadata": {},
   "source": [
    "### Sets\n",
    "\n",
    "Our final collection is sets. The constructor function for Sets is `set`. You can only create sets using the literal notation as long as they contain something (there is no literal for the empty set). Additionally, it is only the way the contents are specified that ultimately separates a Set literal from a Dict literal."
   ]
  },
  {
   "cell_type": "code",
   "execution_count": 55,
   "metadata": {
    "collapsed": false
   },
   "outputs": [
    {
     "name": "stdout",
     "output_type": "stream",
     "text": [
      "set([1, 2, 3])\n"
     ]
    }
   ],
   "source": [
    "d = {1, 2, 3}\n",
    "print d"
   ]
  },
  {
   "cell_type": "markdown",
   "metadata": {},
   "source": [
    "Because sets are not ordered, there is no way to access a specific element of the set. You can remove elements, though:"
   ]
  },
  {
   "cell_type": "code",
   "execution_count": 56,
   "metadata": {
    "collapsed": false
   },
   "outputs": [
    {
     "name": "stdout",
     "output_type": "stream",
     "text": [
      "set([2, 3])\n"
     ]
    }
   ],
   "source": [
    "d.remove( 1)\n",
    "print d"
   ]
  },
  {
   "cell_type": "markdown",
   "metadata": {},
   "source": [
    "And, using `add`, well, add elements to the set:"
   ]
  },
  {
   "cell_type": "code",
   "execution_count": 57,
   "metadata": {
    "collapsed": false
   },
   "outputs": [
    {
     "name": "stdout",
     "output_type": "stream",
     "text": [
      "set([2, 3, 4])\n"
     ]
    }
   ],
   "source": [
    "d.add( 4)\n",
    "print d"
   ]
  },
  {
   "cell_type": "markdown",
   "metadata": {},
   "source": [
    "### in\n",
    "\n",
    "Which leads us to the `in` operator. It makes sense that you can use `in` to see if a value is \"in\" a set:"
   ]
  },
  {
   "cell_type": "code",
   "execution_count": 58,
   "metadata": {
    "collapsed": false
   },
   "outputs": [
    {
     "data": {
      "text/plain": [
       "False"
      ]
     },
     "execution_count": 58,
     "metadata": {},
     "output_type": "execute_result"
    }
   ],
   "source": [
    "1 in d"
   ]
  },
  {
   "cell_type": "code",
   "execution_count": 59,
   "metadata": {
    "collapsed": false
   },
   "outputs": [
    {
     "data": {
      "text/plain": [
       "True"
      ]
     },
     "execution_count": 59,
     "metadata": {},
     "output_type": "execute_result"
    }
   ],
   "source": [
    "2 in d"
   ]
  },
  {
   "cell_type": "markdown",
   "metadata": {},
   "source": [
    "but you can also use `in` to test to see if a *key* exists in a Dictionary:"
   ]
  },
  {
   "cell_type": "code",
   "execution_count": 60,
   "metadata": {
    "collapsed": false
   },
   "outputs": [
    {
     "name": "stdout",
     "output_type": "stream",
     "text": [
      "{'a': 1, 'b': 2}\n"
     ]
    }
   ],
   "source": [
    "print c"
   ]
  },
  {
   "cell_type": "code",
   "execution_count": 61,
   "metadata": {
    "collapsed": false
   },
   "outputs": [
    {
     "data": {
      "text/plain": [
       "True"
      ]
     },
     "execution_count": 61,
     "metadata": {},
     "output_type": "execute_result"
    }
   ],
   "source": [
    "'a' in c"
   ]
  },
  {
   "cell_type": "code",
   "execution_count": 62,
   "metadata": {
    "collapsed": false
   },
   "outputs": [
    {
     "data": {
      "text/plain": [
       "False"
      ]
     },
     "execution_count": 62,
     "metadata": {},
     "output_type": "execute_result"
    }
   ],
   "source": [
    "'c' in c"
   ]
  },
  {
   "cell_type": "markdown",
   "metadata": {},
   "source": [
    "which helps prevent errors involving non-existent keys. You can also check to see if a value is in a list:"
   ]
  },
  {
   "cell_type": "code",
   "execution_count": 63,
   "metadata": {
    "collapsed": false
   },
   "outputs": [
    {
     "name": "stdout",
     "output_type": "stream",
     "text": [
      "[True, 'a', 'bar', 'foo', 3]\n"
     ]
    }
   ],
   "source": [
    "print a"
   ]
  },
  {
   "cell_type": "code",
   "execution_count": 64,
   "metadata": {
    "collapsed": false
   },
   "outputs": [
    {
     "data": {
      "text/plain": [
       "True"
      ]
     },
     "execution_count": 64,
     "metadata": {},
     "output_type": "execute_result"
    }
   ],
   "source": [
    "'bar' in a"
   ]
  },
  {
   "cell_type": "markdown",
   "metadata": {},
   "source": [
    "There's a lot more to collections. You can refer to the official Python documentation. We'll cover some other topics regarding collections as well."
   ]
  },
  {
   "cell_type": "markdown",
   "metadata": {},
   "source": [
    "## Functions\n",
    "\n",
    "We only need one more basic unit for a Functional Python and that's functions. Named functions are created by using the `def` statement, the name of the function, formal parameters, an optional documentation string and an indented body. If the function returns values, it must use a `return` statement; otherwise, it returns `None`."
   ]
  },
  {
   "cell_type": "code",
   "execution_count": 65,
   "metadata": {
    "collapsed": true
   },
   "outputs": [],
   "source": [
    "def my_function( a, b):\n",
    "    \"\"\"my_function takes two arguments and does some really cool stuff\"\"\"\n",
    "    return a + b"
   ]
  },
  {
   "cell_type": "code",
   "execution_count": 66,
   "metadata": {
    "collapsed": false
   },
   "outputs": [
    {
     "data": {
      "text/plain": [
       "5"
      ]
     },
     "execution_count": 66,
     "metadata": {},
     "output_type": "execute_result"
    }
   ],
   "source": [
    "my_function( 2, 3)"
   ]
  },
  {
   "cell_type": "markdown",
   "metadata": {},
   "source": [
    "There isn't a whole here that's different from other programming languages. \n",
    "\n",
    "One of the few \"gotchas\" that some might run into is the necessity of a `return` statement. In languages like Java, C#, Python, the language is comprised of *statements* and *expressions*. Statements do not return a value whereas expressions do. In other languages, like Ruby, Clojure and many other functional programming languages, everything is an expression and there are no statements. In Ruby, `if` is an expression, you can assign the result to a variable:\n",
    "\n",
    "```ruby\n",
    "foo = if a > 0 then\n",
    "\"frank\"\n",
    "else\n",
    "\"bob\"\n",
    "end\n",
    "```\n",
    "\n",
    "And while Python's conditional looks very similar, it is a *statement* not an expression (we'll talk about conditionals in a bit). So you may definitely *not* assign the result to a variable because there is no result.\n",
    "\n",
    "It is a very common mistake to write a function, call it and get `None` back and wonder what went wrong. Make sure that if your function is supposed to return something (not all of them do), it is actually using `return` to return it.\n",
    "\n",
    "The interesting thing about Python functions is that they are values themselves:"
   ]
  },
  {
   "cell_type": "code",
   "execution_count": 67,
   "metadata": {
    "collapsed": false
   },
   "outputs": [
    {
     "data": {
      "text/plain": [
       "<function __main__.my_function>"
      ]
     },
     "execution_count": 67,
     "metadata": {},
     "output_type": "execute_result"
    }
   ],
   "source": [
    "my_function"
   ]
  },
  {
   "cell_type": "markdown",
   "metadata": {},
   "source": [
    "which means you can assign them to variables and pass them around as values:"
   ]
  },
  {
   "cell_type": "code",
   "execution_count": 68,
   "metadata": {
    "collapsed": false
   },
   "outputs": [
    {
     "data": {
      "text/plain": [
       "30"
      ]
     },
     "execution_count": 68,
     "metadata": {},
     "output_type": "execute_result"
    }
   ],
   "source": [
    "your_function = my_function\n",
    "your_function( 10, 20)"
   ]
  },
  {
   "cell_type": "markdown",
   "metadata": {},
   "source": [
    "I'm going to write a function below that takes a function as a formal argument and calls it with the arguments 10 and 2 and returns the result:"
   ]
  },
  {
   "cell_type": "code",
   "execution_count": 69,
   "metadata": {
    "collapsed": true
   },
   "outputs": [],
   "source": [
    "def call_f( f):\n",
    "    return f( 10, 2)"
   ]
  },
  {
   "cell_type": "markdown",
   "metadata": {},
   "source": [
    "and call it with `my_function` *as an argument*:"
   ]
  },
  {
   "cell_type": "code",
   "execution_count": 70,
   "metadata": {
    "collapsed": false
   },
   "outputs": [
    {
     "data": {
      "text/plain": [
       "12"
      ]
     },
     "execution_count": 70,
     "metadata": {},
     "output_type": "execute_result"
    }
   ],
   "source": [
    "call_f( my_function)"
   ]
  },
  {
   "cell_type": "markdown",
   "metadata": {},
   "source": [
    "It might not be obvious yet, but this is very powerful. We can also use functions to make functions:"
   ]
  },
  {
   "cell_type": "code",
   "execution_count": 71,
   "metadata": {
    "collapsed": true
   },
   "outputs": [],
   "source": [
    "def create_add_to_it( it):\n",
    "    def f(x):\n",
    "        return it + x\n",
    "    return f"
   ]
  },
  {
   "cell_type": "markdown",
   "metadata": {},
   "source": [
    "what I have done is create a function `create_add_to_it` that takes a single formal argument, `it`. The body of the function defines a new function `f` with a formal argument `x` that adds `it` and `x`. The function then returns `f`. The goal is to create a function that will add any number `x` to whatever `it` was set to when the function `f` was created:"
   ]
  },
  {
   "cell_type": "code",
   "execution_count": 72,
   "metadata": {
    "collapsed": false
   },
   "outputs": [
    {
     "name": "stdout",
     "output_type": "stream",
     "text": [
      "<type 'function'>\n"
     ]
    }
   ],
   "source": [
    "a22 = create_add_to_it( 22)\n",
    "print type( a22)"
   ]
  },
  {
   "cell_type": "markdown",
   "metadata": {},
   "source": [
    "Here we can see that `create_add_to_it` really returned a function and we assigned it to the variable `a22`. Now we use it:"
   ]
  },
  {
   "cell_type": "code",
   "execution_count": 73,
   "metadata": {
    "collapsed": false
   },
   "outputs": [
    {
     "data": {
      "text/plain": [
       "24"
      ]
     },
     "execution_count": 73,
     "metadata": {},
     "output_type": "execute_result"
    }
   ],
   "source": [
    "a22( 2)"
   ]
  },
  {
   "cell_type": "code",
   "execution_count": 74,
   "metadata": {
    "collapsed": false
   },
   "outputs": [
    {
     "data": {
      "text/plain": [
       "32"
      ]
     },
     "execution_count": 74,
     "metadata": {},
     "output_type": "execute_result"
    }
   ],
   "source": [
    "a22( 10)"
   ]
  },
  {
   "cell_type": "markdown",
   "metadata": {},
   "source": [
    "The function `f` that we create remembers the value of `it` when it was created by \"closing\" over the value and is called a *closure*. We will have more to say about closures later.\n",
    "\n",
    "There are a lot of other bells and whistles associated with functions in Python and we'll go over a few of them here. Generally speaking, the typical arguments to a function in Python are *ordered*, that is, the function `my_function` expects `a` and then `b` when it is called:"
   ]
  },
  {
   "cell_type": "code",
   "execution_count": 75,
   "metadata": {
    "collapsed": false
   },
   "outputs": [
    {
     "data": {
      "text/plain": [
       "5"
      ]
     },
     "execution_count": 75,
     "metadata": {},
     "output_type": "execute_result"
    }
   ],
   "source": [
    "my_function( 3, 2)"
   ]
  },
  {
   "cell_type": "markdown",
   "metadata": {},
   "source": [
    "Sometimes, I have the values I need to call a function but they are in a collection. The direct way to fix this problem might be something like:"
   ]
  },
  {
   "cell_type": "code",
   "execution_count": 76,
   "metadata": {
    "collapsed": false
   },
   "outputs": [
    {
     "data": {
      "text/plain": [
       "5"
      ]
     },
     "execution_count": 76,
     "metadata": {},
     "output_type": "execute_result"
    }
   ],
   "source": [
    "args = [3, 2]\n",
    "my_function(args[0], args[1])"
   ]
  },
  {
   "cell_type": "markdown",
   "metadata": {},
   "source": [
    "However, Python contains a bit of syntactic sugar via the *splat* operator that permits us to do the following:"
   ]
  },
  {
   "cell_type": "code",
   "execution_count": 77,
   "metadata": {
    "collapsed": false
   },
   "outputs": [
    {
     "data": {
      "text/plain": [
       "5"
      ]
     },
     "execution_count": 77,
     "metadata": {},
     "output_type": "execute_result"
    }
   ],
   "source": [
    "args = [3, 2]\n",
    "my_function(*args)"
   ]
  },
  {
   "cell_type": "markdown",
   "metadata": {},
   "source": [
    "Note that this works for tuples as well:"
   ]
  },
  {
   "cell_type": "code",
   "execution_count": 78,
   "metadata": {
    "collapsed": false
   },
   "outputs": [
    {
     "data": {
      "text/plain": [
       "5"
      ]
     },
     "execution_count": 78,
     "metadata": {},
     "output_type": "execute_result"
    }
   ],
   "source": [
    "args = (3, 2)\n",
    "my_function(*args)"
   ]
  },
  {
   "cell_type": "markdown",
   "metadata": {},
   "source": [
    "Python also supports something like the reverse of splat in that a function can return more than one value. You can either capture every value individually by assigning in parallel to more than one variable or capture all the values as a collection (Tuple) in one variable.\n",
    "\n",
    "Let's demonstrate by creating a function that does all the basic operations on two arguments:"
   ]
  },
  {
   "cell_type": "code",
   "execution_count": 79,
   "metadata": {
    "collapsed": false
   },
   "outputs": [],
   "source": [
    "def everything( a, b):\n",
    "    assert b != 0\n",
    "    return a + b, a - b, a * b, a / b"
   ]
  },
  {
   "cell_type": "markdown",
   "metadata": {},
   "source": [
    "Here we know that `everything` returns 4 values so we assign in parallel to 4 variables:"
   ]
  },
  {
   "cell_type": "code",
   "execution_count": 80,
   "metadata": {
    "collapsed": true
   },
   "outputs": [],
   "source": [
    "a, b, c, d = everything( 10, 2)"
   ]
  },
  {
   "cell_type": "code",
   "execution_count": 81,
   "metadata": {
    "collapsed": false
   },
   "outputs": [
    {
     "name": "stdout",
     "output_type": "stream",
     "text": [
      "12\n",
      "8\n",
      "20\n",
      "5.0\n"
     ]
    }
   ],
   "source": [
    "print a\n",
    "print b\n",
    "print c\n",
    "print d"
   ]
  },
  {
   "cell_type": "markdown",
   "metadata": {},
   "source": [
    "Here we assign to one variable which will hold a Tuple of the results:"
   ]
  },
  {
   "cell_type": "code",
   "execution_count": 82,
   "metadata": {
    "collapsed": false
   },
   "outputs": [
    {
     "name": "stdout",
     "output_type": "stream",
     "text": [
      "(12, 8, 20, 5.0)\n"
     ]
    }
   ],
   "source": [
    "a = everything( 10, 2)\n",
    "print a"
   ]
  },
  {
   "cell_type": "markdown",
   "metadata": {},
   "source": [
    "It is an all or nothing thing, however. You must either get all the values in one variable or a variable for every value:"
   ]
  },
  {
   "cell_type": "code",
   "execution_count": 83,
   "metadata": {
    "collapsed": false
   },
   "outputs": [
    {
     "name": "stdout",
     "output_type": "stream",
     "text": [
      "Exception (<type 'exceptions.ValueError'>): too many values to unpack\n"
     ]
    }
   ],
   "source": [
    "try:\n",
    "    a, b, c = everything( 10, 2)\n",
    "    print a\n",
    "    print b\n",
    "    print c\n",
    "except Exception as e:\n",
    "    print \"Exception (%s): %s\" % (type(e), str(e))"
   ]
  },
  {
   "cell_type": "markdown",
   "metadata": {},
   "source": [
    "The error above tells us that `everything` returned more than 3 values."
   ]
  },
  {
   "cell_type": "markdown",
   "metadata": {},
   "source": [
    "Python also permits *named* arguments *a la* Objective-C. In fact, you don't really have to do anything to get it work. If you know the names of the formal arguments to a function, you can use them like so:"
   ]
  },
  {
   "cell_type": "code",
   "execution_count": 84,
   "metadata": {
    "collapsed": false
   },
   "outputs": [
    {
     "name": "stdout",
     "output_type": "stream",
     "text": [
      "(12, -8, 20, 0.2)\n"
     ]
    }
   ],
   "source": [
    "a = everything(a=2, b=10)\n",
    "print a"
   ]
  },
  {
   "cell_type": "markdown",
   "metadata": {},
   "source": [
    "In case you really want to get crazy, by *naming* the arguments, you can ignore the order:"
   ]
  },
  {
   "cell_type": "code",
   "execution_count": 85,
   "metadata": {
    "collapsed": false
   },
   "outputs": [
    {
     "name": "stdout",
     "output_type": "stream",
     "text": [
      "(12, -8, 20, 0.2)\n"
     ]
    }
   ],
   "source": [
    "a = everything(b=10, a=2)\n",
    "print a"
   ]
  },
  {
   "cell_type": "markdown",
   "metadata": {},
   "source": [
    "This leads to a few interesting things. First, by using *double* splat, we can use a Dict to supply the argument values in a call to a function:"
   ]
  },
  {
   "cell_type": "code",
   "execution_count": 86,
   "metadata": {
    "collapsed": false
   },
   "outputs": [
    {
     "name": "stdout",
     "output_type": "stream",
     "text": [
      "(12, -8, 20, 0.2)\n"
     ]
    }
   ],
   "source": [
    "args = {\"a\": 2, \"b\": 10}\n",
    "a = everything(**args)\n",
    "print a"
   ]
  },
  {
   "cell_type": "markdown",
   "metadata": {},
   "source": [
    "Second, we can provide default values to our formal arguments with the *proviso* that no formal argument *without* a default value can appear after a formal argument *with* a default value. The following is ok:"
   ]
  },
  {
   "cell_type": "code",
   "execution_count": 87,
   "metadata": {
    "collapsed": true
   },
   "outputs": [],
   "source": [
    "def everything(a, b=10):\n",
    "    assert b != 0\n",
    "    return a + b, a - b, a * b, a / b"
   ]
  },
  {
   "cell_type": "markdown",
   "metadata": {},
   "source": [
    "But the following is not:\n",
    "\n",
    "```python\n",
    "def everything( a=10, b):\n",
    "    assert b != 0\n",
    "    return a + b, a - b, a * b, a / b\n",
    "```\n",
    "\n",
    "**BAD** - if `a` has a default value, so must `b`.\n",
    "\n",
    "Let's see how calling the good version works. The first execution will use the default value of `b`:"
   ]
  },
  {
   "cell_type": "code",
   "execution_count": 88,
   "metadata": {
    "collapsed": false
   },
   "outputs": [
    {
     "name": "stdout",
     "output_type": "stream",
     "text": [
      "(30, 10, 200, 2.0)\n"
     ]
    }
   ],
   "source": [
    "a = everything(20)\n",
    "print a"
   ]
  },
  {
   "cell_type": "markdown",
   "metadata": {},
   "source": [
    "This execution will supply a different value of `b`:"
   ]
  },
  {
   "cell_type": "code",
   "execution_count": 89,
   "metadata": {
    "collapsed": false
   },
   "outputs": [
    {
     "name": "stdout",
     "output_type": "stream",
     "text": [
      "(120, -80, 2000, 0.2)\n"
     ]
    }
   ],
   "source": [
    "a = everything( 20, 100)\n",
    "print a"
   ]
  },
  {
   "cell_type": "markdown",
   "metadata": {},
   "source": [
    "### Anonymous Functions\n",
    "\n",
    "So far, we've been talking about *named* functions. There are also *anonymous* functions or *lambdas* in Python as well. They are pretty limited in that they can only only be a single expression. They look something like this:"
   ]
  },
  {
   "cell_type": "code",
   "execution_count": 90,
   "metadata": {
    "collapsed": false
   },
   "outputs": [
    {
     "data": {
      "text/plain": [
       "<function __main__.<lambda>>"
      ]
     },
     "execution_count": 90,
     "metadata": {},
     "output_type": "execute_result"
    }
   ],
   "source": [
    "lambda x, y: x + y"
   ]
  },
  {
   "cell_type": "markdown",
   "metadata": {},
   "source": [
    "Of course, that's not very useful. Where a lambda is useful is in a situation like we had above where I had a function that took a function as an argument. If I have a very simple computation, I don't have to use a named function but can supply a lambda instead. Remember that `call_f` applies 10 and 2 to the supplied `f` which will be an anonymous function this time:"
   ]
  },
  {
   "cell_type": "code",
   "execution_count": 91,
   "metadata": {
    "collapsed": false
   },
   "outputs": [
    {
     "data": {
      "text/plain": [
       "20"
      ]
     },
     "execution_count": 91,
     "metadata": {},
     "output_type": "execute_result"
    }
   ],
   "source": [
    "call_f( lambda x, y: x * y)"
   ]
  },
  {
   "cell_type": "markdown",
   "metadata": {},
   "source": [
    "### A Note about Pure Functions and Mutable Data\n",
    "\n",
    "If data structures in Python were immutable, the following code would be true:"
   ]
  },
  {
   "cell_type": "code",
   "execution_count": 92,
   "metadata": {
    "collapsed": false
   },
   "outputs": [
    {
     "name": "stdout",
     "output_type": "stream",
     "text": [
      "Before...\n",
      "x1 [1, 2, 3, 4]\n",
      "After...\n",
      "x2 [1, 2, 3, 4, 10]\n",
      "x1 [1, 2, 3, 4, 10]\n"
     ]
    }
   ],
   "source": [
    "def add_total(xs):\n",
    "    total = sum(xs)\n",
    "    xs.append( total)\n",
    "    return xs\n",
    "    \n",
    "x1 = [1, 2, 3, 4]\n",
    "print \"Before...\"\n",
    "print \"x1\", x1\n",
    "x2 = add_total( x1)\n",
    "print \"After...\"\n",
    "print \"x2\", x2\n",
    "print \"x1\", x1"
   ]
  },
  {
   "cell_type": "markdown",
   "metadata": {},
   "source": [
    "Ideally, we would like for `x1` not to change. This is what happens in functional programming languages with immutable data structures. While it is possible to add immutable data structures with the very nice properties that such data structures have, a poor person's way to achieve something similar is through `deepcopy`:"
   ]
  },
  {
   "cell_type": "code",
   "execution_count": 93,
   "metadata": {
    "collapsed": true
   },
   "outputs": [],
   "source": [
    "from copy import deepcopy"
   ]
  },
  {
   "cell_type": "code",
   "execution_count": 94,
   "metadata": {
    "collapsed": false
   },
   "outputs": [
    {
     "name": "stdout",
     "output_type": "stream",
     "text": [
      "Before...\n",
      "x1 [1, 2, 3, 4]\n",
      "After...\n",
      "x2 [1, 2, 3, 4, 10]\n",
      "x1 [1, 2, 3, 4]\n"
     ]
    }
   ],
   "source": [
    "def add_total(xs):\n",
    "    xs_copy = deepcopy( xs)\n",
    "    total = sum(xs_copy)\n",
    "    xs_copy.append( total)\n",
    "    return xs_copy\n",
    "    \n",
    "x1 = [1, 2, 3, 4]\n",
    "print \"Before...\"\n",
    "print \"x1\", x1\n",
    "x2 = add_total( x1)\n",
    "print \"After...\"\n",
    "print \"x2\", x2\n",
    "print \"x1\", x1"
   ]
  },
  {
   "cell_type": "markdown",
   "metadata": {},
   "source": [
    "In either case, you need to be careful. If you do not make deep copies, at least make sure you always return the modified data structure rather than relying on the mutation in place (as Python normally does).\n",
    "\n",
    "If you decide to make deep copies, realize that you are doubling the amount of memory you are using. The efficient immutable data structures in Clojure and the like use *structural sharing* to minimize duplication. With structural sharing, `x1` and the modified `x2` \"share\" `[1, 2, 3, 4]` and only `x2` has `10` appended to the end.\n",
    "\n",
    "When it comes to writing certain maching learning algorithms, you will most definitely want to do deep copying...even if you were using OOP. In general, if you are very careful, always returning the modified data structure is the first easiest thing to do.\n",
    "\n",
    "At the end of this note, we will talk about external libraries that give immutable data structures to Python...transparently!"
   ]
  },
  {
   "cell_type": "markdown",
   "metadata": {},
   "source": [
    "## Decomposing Object Oriented Programming\n",
    "\n",
    "We are now in a position to decompose Object Oriented Programming to a more functional, *dataflow* style of programming.\n",
    "\n",
    "As noted in Yegge's blog post, in a language like Java, everything must start out as a noun. This is why the namespaces of Java are littered with things like `CommandExecutor`, `PersonFactory` and other such nonsense. Java requires functions to belong to classes, that is, you can only have *methods*.\n",
    "\n",
    "Under the covers, however, objects are really just a syntactic sugar for records and procedures. To see how this is so, let us look at a typical Java class definition:\n",
    "\n",
    "```java\n",
    "public class Person {\n",
    "    public Person( firstName, lastName) {\n",
    "        this.firstName = firstName;\n",
    "        this.lastName = lastName;\n",
    "    }\n",
    "    \n",
    "    public String getFirstName() { return firstName; }\n",
    "    public String getLastName() { return lastName; }\n",
    "    public void setFirstName( firstName) { this.firstName = firstName; }\n",
    "    public void setLastName( lastName) { this.lastName = lastName; }\n",
    "    public String getFullName() { return firstName + \" \" + lastName; }\n",
    "}\n",
    "```\n",
    "\n",
    "There are a few things to note here. First, for whatever reason, languages get associated with conventions and the naming convention of arguments and variables in Java is camelCase. In Python, it is snake_case. These conventions are often spelled out. In the case of Python, the conventions are documented in [PEP 8](https://www.python.org/dev/peps/pep-0008/).  **You are to follow the PEP 8 conventions for all submissions in this course unless specifically overruled. Failure to do so is a failing submission.**\n",
    "\n",
    "But more to the point, we have a class definition, `Person` and various getters and setters. The only slightly interesting method is the `getFullName` method because it does actual work with the values or state of a Person object. But the most important part is `this`. What is `this`?\n",
    "\n",
    "Let's look at the Python version for further insight:\n",
    "\n",
    "```python\n",
    "class Person:\n",
    "    def __init__( this, first_name, last_name):\n",
    "        this.first_name = first_name\n",
    "        this.last_name = last_name\n",
    "    def set_first_name( this, first_name):\n",
    "        this.first_name = first_name\n",
    "    def set_last_name( this, last_name):\n",
    "        this.last_name = last_name\n",
    "    def full_name( this):\n",
    "        return this.first_name + \" \" + this.last_name\n",
    "    def __str__( this):\n",
    "        return \"Person[%s, %s]\" % (this.first_name, this.last_name)\n",
    "```\n",
    "\n",
    "Again, `this` makes an appearance everywhere. Unlike Java, however, `this` makes an appearance in the method definitions. This was a conscious design decision on van Rossum's part. The *lack* of `this` in method definitions in Java is syntactic sugar. (It is actually a common error to forget to include `this` as a first argument in a method definition. If you see an error that says `f takes 2 arguments, 3 arguments given`, you have most likely made this mistake).\n",
    "\n",
    "But this isn't the only way that Python exposes some of the underlying machinery. Let's instantiate a `Person` object:"
   ]
  },
  {
   "cell_type": "code",
   "execution_count": 95,
   "metadata": {
    "collapsed": true
   },
   "outputs": [],
   "source": [
    "class Person:\n",
    "    def __init__( this, first_name, last_name):\n",
    "        this.first_name = first_name\n",
    "        this.last_name = last_name\n",
    "    def set_first_name( this, first_name):\n",
    "        this.first_name = first_name\n",
    "    def set_last_name( this, last_name):\n",
    "        this.last_name = last_name\n",
    "    def full_name( this):\n",
    "        return this.first_name + \" \" + this.last_name\n",
    "    def __str__( this):\n",
    "        return \"Person[%s, %s]\" % (this.first_name, this.last_name)"
   ]
  },
  {
   "cell_type": "code",
   "execution_count": 96,
   "metadata": {
    "collapsed": true
   },
   "outputs": [],
   "source": [
    "p = Person( \"Harry\", \"Potter\")"
   ]
  },
  {
   "cell_type": "markdown",
   "metadata": {},
   "source": [
    "So far, so good. If we print out the object, we get the usual object gobblygook:"
   ]
  },
  {
   "cell_type": "code",
   "execution_count": 97,
   "metadata": {
    "collapsed": false
   },
   "outputs": [
    {
     "data": {
      "text/plain": [
       "<__main__.Person instance at 0x10d75ce60>"
      ]
     },
     "execution_count": 97,
     "metadata": {},
     "output_type": "execute_result"
    }
   ],
   "source": [
    "p"
   ]
  },
  {
   "cell_type": "markdown",
   "metadata": {},
   "source": [
    "If instead we \"cast\" the `Person` to a `str`, the `Person`'s `__str__` method is called:"
   ]
  },
  {
   "cell_type": "code",
   "execution_count": 98,
   "metadata": {
    "collapsed": false
   },
   "outputs": [
    {
     "name": "stdout",
     "output_type": "stream",
     "text": [
      "Person[Harry, Potter]\n"
     ]
    }
   ],
   "source": [
    "print str( p)"
   ]
  },
  {
   "cell_type": "markdown",
   "metadata": {},
   "source": [
    "Unlike in Java, we didn't need the getters:"
   ]
  },
  {
   "cell_type": "code",
   "execution_count": 99,
   "metadata": {
    "collapsed": false
   },
   "outputs": [
    {
     "name": "stdout",
     "output_type": "stream",
     "text": [
      "Harry\n",
      "Potter\n"
     ]
    }
   ],
   "source": [
    "print p.first_name\n",
    "print p.last_name"
   ]
  },
  {
   "cell_type": "markdown",
   "metadata": {},
   "source": [
    "We didn't really need the setters either:"
   ]
  },
  {
   "cell_type": "code",
   "execution_count": 100,
   "metadata": {
    "collapsed": false
   },
   "outputs": [
    {
     "name": "stdout",
     "output_type": "stream",
     "text": [
      "Person[Lily, Potter]\n"
     ]
    }
   ],
   "source": [
    "p.first_name = \"Lily\"\n",
    "print p # print calls str()"
   ]
  },
  {
   "cell_type": "markdown",
   "metadata": {},
   "source": [
    "And as if it couldn't get any more strange, we can add attributes on the fly:"
   ]
  },
  {
   "cell_type": "code",
   "execution_count": 101,
   "metadata": {
    "collapsed": false
   },
   "outputs": [
    {
     "name": "stdout",
     "output_type": "stream",
     "text": [
      "Person[Harry, Potter]\n",
      "The Boy Who Lived\n"
     ]
    }
   ],
   "source": [
    "p.first_name = \"Harry\"\n",
    "p.title = \"The Boy Who Lived\"\n",
    "print p\n",
    "print p.title"
   ]
  },
  {
   "cell_type": "markdown",
   "metadata": {},
   "source": [
    "And, of course, we can call our method that does some real work:"
   ]
  },
  {
   "cell_type": "code",
   "execution_count": 102,
   "metadata": {
    "collapsed": false
   },
   "outputs": [
    {
     "name": "stdout",
     "output_type": "stream",
     "text": [
      "Harry Potter\n"
     ]
    }
   ],
   "source": [
    "print p.full_name()"
   ]
  },
  {
   "cell_type": "markdown",
   "metadata": {},
   "source": [
    "We've learned a few things from this experiment. Mainly, a class definition is syntactic sugar for a Dict and associated functions that automatically receive that Dict as a first argument. We could just as easily have written:\n",
    "\n",
    "```python\n",
    "def person_set_first_name( person, first_name):\n",
    "    person.first_name = first_name\n",
    "\n",
    "def person_set_last_name( person, last_name):\n",
    "    person.last_name = last_name\n",
    "\n",
    "def person_full_name( person):\n",
    "    return person.first_name + \" \" + person.last_name\n",
    "    \n",
    "def person_str( person):\n",
    "    return \"Person[%s, %s]\" % (person.first_name, person.last_name)\n",
    "```\n",
    "\n",
    "This is, in fact, how classes and objects are represented in many objected oriented languages. The state is stored on the heap and when a method is invoked on an object instance, the interpreter looks up the *type* of the object and then looks for a munged name exactly like those shown above and invokes it with the object state as the first parameter to the method. The only difference in this regard between Java and Python is that Python has less syntactic sugar but the basic process is the same.\n",
    "\n",
    "In the bad old days of the C programming language, this is how a lot of programming was done. You created records (basically Dicts) and in functions that operated on those records. This is now, more or less, the functional approach.  \n",
    "\n",
    "In Python, you have several options for replacing classes and objects. In all cases, you will or may need to add *functions* that work on the objects. They should generally be named using *verbs*. For example, `full_name` might be `calculate_full_name`. We'll talk a bit more about naming later.\n",
    "\n",
    "On the other hand, you have a few more options in Python for state. You can use a Dict or a NamedTuple.\n",
    "\n",
    "### Dicts\n",
    "\n",
    "The simplest thing is to use a Dict for your state. In a functional programming language, the key names of a Dict become the *data* interface. You may not know at the start what you want that interface to look like. The Dict gives you the ultimate flexibility:"
   ]
  },
  {
   "cell_type": "code",
   "execution_count": 103,
   "metadata": {
    "collapsed": false
   },
   "outputs": [
    {
     "name": "stdout",
     "output_type": "stream",
     "text": [
      "{'first_name': 'Harry', 'last_name': 'Potter'}\n"
     ]
    }
   ],
   "source": [
    "p = {\"first_name\": \"Harry\", \"last_name\": \"Potter\"}\n",
    "print p"
   ]
  },
  {
   "cell_type": "markdown",
   "metadata": {},
   "source": [
    "This flexibility comes at a cost:"
   ]
  },
  {
   "cell_type": "code",
   "execution_count": 104,
   "metadata": {
    "collapsed": false
   },
   "outputs": [
    {
     "name": "stdout",
     "output_type": "stream",
     "text": [
      "Exception (<type 'exceptions.AttributeError'>): 'dict' object has no attribute 'first_name'\n"
     ]
    }
   ],
   "source": [
    "try:\n",
    "    print p.first_name\n",
    "except Exception as e:\n",
    "    print \"Exception (%s): %s\" % (type(e), str(e))"
   ]
  },
  {
   "cell_type": "markdown",
   "metadata": {},
   "source": [
    "However, we can easily add new attributes:"
   ]
  },
  {
   "cell_type": "code",
   "execution_count": 105,
   "metadata": {
    "collapsed": false
   },
   "outputs": [
    {
     "name": "stdout",
     "output_type": "stream",
     "text": [
      "{'first_name': 'Harry', 'last_name': 'Potter', 'title': 'The Boy Who Lived'}\n"
     ]
    }
   ],
   "source": [
    "p[ \"title\"] = \"The Boy Who Lived\"\n",
    "print p"
   ]
  },
  {
   "cell_type": "markdown",
   "metadata": {},
   "source": [
    "The main advantage here is that every bundle of data has the same exact interface and functions: the functions of a Dict. We can use `[]` or `get` on every \"object\" regardless of whether the data represents a person, a car, or a chart.\n",
    "\n",
    "### namedtuple\n",
    "\n",
    "Sometimes we want something a bit more structured. In that case, we can use a `namedtuple`. The namedtuple prevents us from accidentally creating or accessing unknown fields. The tradeoff is that we no longer are working with a Dict with a more general interface."
   ]
  },
  {
   "cell_type": "code",
   "execution_count": 106,
   "metadata": {
    "collapsed": false
   },
   "outputs": [],
   "source": [
    "from collections import namedtuple"
   ]
  },
  {
   "cell_type": "code",
   "execution_count": 107,
   "metadata": {
    "collapsed": true
   },
   "outputs": [],
   "source": [
    "person = namedtuple( 'Person', [\"first_name\", \"last_name\"])"
   ]
  },
  {
   "cell_type": "code",
   "execution_count": 108,
   "metadata": {
    "collapsed": false
   },
   "outputs": [
    {
     "name": "stdout",
     "output_type": "stream",
     "text": [
      "Person(first_name='Harry', last_name='Potter')\n"
     ]
    }
   ],
   "source": [
    "p = person( \"Harry\", \"Potter\")\n",
    "print p"
   ]
  },
  {
   "cell_type": "code",
   "execution_count": 109,
   "metadata": {
    "collapsed": false
   },
   "outputs": [
    {
     "name": "stdout",
     "output_type": "stream",
     "text": [
      "Harry\n",
      "Potter\n"
     ]
    }
   ],
   "source": [
    "print p.first_name\n",
    "print p.last_name"
   ]
  },
  {
   "cell_type": "code",
   "execution_count": 110,
   "metadata": {
    "collapsed": false
   },
   "outputs": [
    {
     "name": "stdout",
     "output_type": "stream",
     "text": [
      "Exception (<type 'exceptions.AttributeError'>): 'Person' object has no attribute 'title'\n"
     ]
    }
   ],
   "source": [
    "try:\n",
    "    p.title = \"The Boy Who Lived\"\n",
    "except Exception as e:\n",
    "    print \"Exception (%s): %s\" % (type(e), str(e))    "
   ]
  },
  {
   "cell_type": "code",
   "execution_count": 111,
   "metadata": {
    "collapsed": false
   },
   "outputs": [
    {
     "name": "stdout",
     "output_type": "stream",
     "text": [
      "Exception (<type 'exceptions.AttributeError'>): can't set attribute\n"
     ]
    }
   ],
   "source": [
    "try:\n",
    "    p.first_name = \"Lily\"\n",
    "except Exception as e:\n",
    "    print \"Exception (%s): %s\" % (type(e), str(e))    "
   ]
  },
  {
   "cell_type": "markdown",
   "metadata": {},
   "source": [
    "The first example above shows that we cannot add arbitrary attributes while the second reminds us that Tuples are immutable. There truly is no free lunch."
   ]
  },
  {
   "cell_type": "markdown",
   "metadata": {},
   "source": [
    "### Encapsulation\n",
    "\n",
    "Some may be wondering about encapsulation. What about making state private from the awful programmers? The dataflow approach recognizes that data and operations on data are what programs are about and there's no particular reason to encapsulate it. Programmers should be treated like adults. In libraries especially, the public functions and data should be made clear and failure to abide by this declarations is the programmer's fault.\n",
    "\n",
    "On the other hand, you can get as much or as little encapsulation as you like by using Closures:"
   ]
  },
  {
   "cell_type": "markdown",
   "metadata": {},
   "source": [
    "## Closures\n",
    "\n",
    "> \"Closures are a poor person's Class; Classes are a poor person's Closure\"\n",
    "\n",
    "Another approach--which admittedly has some dangers in a language like Python where the data structures are mutable--is to use closures.\n",
    "\n",
    "We saw a closure before:\n",
    "\n",
    "```python\n",
    "def create_add_to_it( it):\n",
    "    def f(x):\n",
    "        return it + x\n",
    "    return f\n",
    "```\n",
    "\n",
    "`create_add_to_it` takes a value, `it`, and then returns a function that will add some user supplied `x` to `it`. The definition of `f` closes over the value of `it` and has access to it even after the function `f` is returned from `create_add_to_it`.\n",
    "\n",
    "If you squint, you can think of a class (object) as a closure. The constructor sets values and the methods have access to those values along with their formal arguments. For example:\n",
    "\n",
    "```python\n",
    "\n",
    "person = namedtuple( 'Person', [\"first_name\", \"last_name\"])\n",
    "\n",
    "def construct_person( first_name, last_name):\n",
    "    p = person( first_name, last_name)\n",
    "    def f():\n",
    "        return p.first_name + \" \" + p.last_name\n",
    "    return {\"full_name\": f}\n",
    "\n",
    "harry_potter = construct_person( \"Harry\", \"Potter\")\n",
    "\n",
    "print harry_potter[\"full_name\"]()\n",
    "```\n",
    "\n",
    "This probably isn't the best or easiest use of a closure. After all, we've basically replicated how `class` works. However, closures can be vary powerful in functional programming. You can create a function that would otherwise require a lot of unchanging but necessary arguments by using a function *factory* that closes over those parameters. Consider the following example:\n",
    "\n",
    "Imagine we have a problem where we have:\n",
    "\n",
    "1. some raw data or other specification for a world in which a robot must operate.\n",
    "2. various rules about how the robot can move.\n",
    "3. various costs associated with movement.\n",
    "\n",
    "And all we want to do is suggest a location to move to and have find out if the move really happened:\n",
    "\n",
    "```python\n",
    "def construct_move_fn( world, movement_rules, costs):\n",
    "    def move( current_location, desired_location):\n",
    "        # do a whole bunch of stuff to see if the robot can move from current to desired.\n",
    "        return actual_location, cost\n",
    "    return move\n",
    "    \n",
    "move = construct_move_fn( world, movement_rules, costs)\n",
    "\n",
    "current_location = (0, 1)\n",
    "desired_location = (1, 1)\n",
    "\n",
    "location, cost = move( current_location, actual_location)\n",
    "\n",
    "print location, cost\n",
    "```\n",
    "\n",
    "`construct_move_fn` takes the `world` (in some format), `movement_rules` (can you make diagonal moves or only horizontal or vertical moves, how many \"spaces\"?), and the `costs` of moving through different terrains or distances. It creates a function `move` that takes as arguments the `current_location` of the robot and the `desired_location`. It will then do a bunch of logic checks to make sure the movement rules are adhered to in the context of the world (for example, a diagonal move might be illegal, the move itself might be illegal because the desired location contains a locked door or the location may not even be in the world!) and return the actual location the robot ends up in along with the cost.\n",
    "\n",
    "We can then instantiate a specific `move` function and call it.\n",
    "\n",
    "By using a closure, we have closed over the arguments that aren't going to change during this run of the program but left them open to change in other runs."
   ]
  },
  {
   "cell_type": "markdown",
   "metadata": {},
   "source": [
    "### Polymorphism\n",
    "\n",
    "What about Polymorphism? You know...you have Dog, Cat and Mouse objects and you call `speak()` on each one and it does The Right Thing?\n",
    "\n",
    "There are actually a number of ways that functional programming languages obtain polymorphism, usually in ways that exceed those possible with OOP. One such way, ported to Python, is with *multimethods*. Multimethods are interesting because they're more general than the polymorphism you can obtain solely with types. The `multimethods` module is from Adam Bard's [Implementing Multimethods in Python](https://adambard.com/blog/implementing-multimethods-in-python/)."
   ]
  },
  {
   "cell_type": "code",
   "execution_count": 112,
   "metadata": {
    "collapsed": true
   },
   "outputs": [],
   "source": [
    "from multimethods import *"
   ]
  },
  {
   "cell_type": "markdown",
   "metadata": {},
   "source": [
    "Multimethods let you change the method invoked on arbitrary *values*. You set up a decorator `@multi` that takes the same number of arguments at the implementation `method`s but returns a value. Each implementation method in turn has a `@method` decorator that indicates its dispatch function and the value that should cause it to be invoked. Let's do a few concrete examples. The first one will be based on types:"
   ]
  },
  {
   "cell_type": "code",
   "execution_count": 113,
   "metadata": {
    "collapsed": true
   },
   "outputs": [],
   "source": [
    "@multi\n",
    "def print_type( arg):\n",
    "    return arg.__class__\n",
    "\n",
    "@method( print_type, int)\n",
    "def print_type( arg):\n",
    "    print \"We have an int: \" + str( arg)\n",
    "\n",
    "@method( print_type, list)\n",
    "def print_type( arg):\n",
    "    print \"We have a list: \" + \",\".join([str(a) for a in arg])\n",
    "\n",
    "@method( print_type, person)\n",
    "def print_type( arg):\n",
    "    print \"We have a person: \" + str( arg)\n",
    "\n",
    "@method( print_type) # default\n",
    "def print_type(arg):\n",
    "    print \"Not sure what we got: \" + str( arg.__class__)"
   ]
  },
  {
   "cell_type": "code",
   "execution_count": 114,
   "metadata": {
    "collapsed": false
   },
   "outputs": [
    {
     "name": "stdout",
     "output_type": "stream",
     "text": [
      "We have a list: 1,2,3\n",
      "We have an int: 1\n",
      "We have a person: Person(first_name='Severus', last_name='Snape')\n",
      "Not sure what we got: <type 'float'>\n"
     ]
    }
   ],
   "source": [
    "print_type([1, 2, 3])\n",
    "print_type(1)\n",
    "print_type(person( \"Severus\", \"Snape\"))\n",
    "print_type(2.3)"
   ]
  },
  {
   "cell_type": "markdown",
   "metadata": {},
   "source": [
    "There are several things to note here:\n",
    "\n",
    "1. We called a function `print_type` on various arguments and the correct implementation was executed.\n",
    "2. Which implementation was executed depended on the dispatch function marked with `@multi`.\n",
    "3. We were able to provide a default implementation.\n",
    "4. We switched on types but more importantly we switched on some built-in types like `int` and `list` that we couldn't normally add new functions to.\n",
    "\n",
    "As mentioned, you don't *have* to dispatch on types. That's the beauty of multimethods.\n",
    "\n",
    "Here's another example that dispatches the subtotal of an order. If the subtotal is over \\$200, then we give a 10% discount and free shipping. If the subtotal is over \\$100 but less than \\$200, we give free shipping, but if the total is over \\$50.00 but less than \\$100, we give a 5% discount. Below \\$50, we do nothing."
   ]
  },
  {
   "cell_type": "code",
   "execution_count": 115,
   "metadata": {
    "collapsed": true
   },
   "outputs": [],
   "source": [
    "@multi\n",
    "def calculate_order_discount( order):\n",
    "    if order[ \"subtotal\"] > 200.00:\n",
    "        return \"discount+free_shipping\"\n",
    "    if order[ \"subtotal\"] > 100.00:\n",
    "        return \"free_shipping\"\n",
    "    if order[ \"subtotal\"] > 50.00:\n",
    "        return \"discount\"\n",
    "    return \"none\"\n",
    "\n",
    "def discount_order( order, discount):\n",
    "    order[ \"discount\"] = order[ \"subtotal\"] * discount\n",
    "    order[ \"subtotal\"] = order[ \"subtotal\"] - order[\"discount\"]\n",
    "    order[ \"total\"] = order[\"total\"] + order[\"shipping\"]\n",
    "    return order\n",
    "\n",
    "def add_free_shipping( order):\n",
    "    order[ \"shipping\"] = 0\n",
    "    order[ \"total\"] = order[ \"subtotal\"]\n",
    "    return order\n",
    "\n",
    "@method( calculate_order_discount, \"discount+free_shipping\")\n",
    "def calculate_order_discount( order):\n",
    "    return add_free_shipping( discount_order( order, 0.10))\n",
    "\n",
    "@method( calculate_order_discount, \"free_shipping\")\n",
    "def calculate_order_discount( order):\n",
    "    return add_free_shipping( order)\n",
    "\n",
    "@method( calculate_order_discount, \"discount\")\n",
    "def calculate_order_discount( order):\n",
    "    return discount_order( order, 0.05)\n",
    "\n",
    "@method( calculate_order_discount, \"none\")\n",
    "def calculate_order_discount( order):\n",
    "    return order"
   ]
  },
  {
   "cell_type": "markdown",
   "metadata": {},
   "source": [
    "Here are some calls to `calculate_order_discount`:"
   ]
  },
  {
   "cell_type": "code",
   "execution_count": 116,
   "metadata": {
    "collapsed": false
   },
   "outputs": [
    {
     "name": "stdout",
     "output_type": "stream",
     "text": [
      "{'total': 195.5, 'subtotal': 195.5, 'shipping': 0}\n",
      "{'discount': 22.5, 'total': 202.5, 'subtotal': 202.5, 'shipping': 0}\n",
      "{'total': 16.94, 'subtotal': 10.99, 'shipping': 5.95}\n",
      "{'discount': 3.7490000000000006, 'total': 86.88000000000001, 'subtotal': 71.23100000000001, 'shipping': 5.95}\n"
     ]
    }
   ],
   "source": [
    "print calculate_order_discount( {\"subtotal\": 195.50, \"shipping\": 5.95, \"total\": 201.45})\n",
    "print calculate_order_discount( {\"subtotal\": 225.00, \"shipping\": 5.95, \"total\": 230.95})\n",
    "print calculate_order_discount( {\"subtotal\": 10.99, \"shipping\": 5.95, \"total\": 16.94})\n",
    "print calculate_order_discount( {\"subtotal\": 74.98, \"shipping\": 5.95, \"total\": 80.93})"
   ]
  },
  {
   "cell_type": "markdown",
   "metadata": {},
   "source": [
    "### Types\n",
    "\n",
    "There are times, however, when it is nice to have a *Type*, something that acts like a primitive. This occurs far less frequently than those who are used to OOP might think but if your program really, really needs a Rational type then making a Rational class is probably the right way to go. This will happen far less frequently that you imagine.\n",
    "\n",
    "If you find yourself trying to justify making a class, think to yourself, is this like `int`, `float` or `datetime`? If it is, then go ahead. If it isn't, then use a Dict."
   ]
  },
  {
   "cell_type": "markdown",
   "metadata": {},
   "source": [
    "## Flow Control and Iteration\n",
    "\n",
    "So the basic model of the functional *program* is one of a flow of *data*. The data represents the state of the program, stuff that probably came from the \"outside\" world, is transformed in some way, and then this result is communicated to the outside world."
   ]
  },
  {
   "cell_type": "markdown",
   "metadata": {},
   "source": [
    "### Flow Control\n",
    "\n",
    "Flow Control is achieved in Python with the usual suspects: `if` and `while`."
   ]
  },
  {
   "cell_type": "code",
   "execution_count": 117,
   "metadata": {
    "collapsed": false
   },
   "outputs": [
    {
     "name": "stdout",
     "output_type": "stream",
     "text": [
      "By Zeus's hammer!\n"
     ]
    }
   ],
   "source": [
    "if True:\n",
    "    print \"By Zeus's hammer!\"\n",
    "else:\n",
    "    print \"By Aquaman's trident!\""
   ]
  },
  {
   "cell_type": "code",
   "execution_count": 118,
   "metadata": {
    "collapsed": false
   },
   "outputs": [
    {
     "name": "stdout",
     "output_type": "stream",
     "text": [
      "By Aquaman's trident!\n"
     ]
    }
   ],
   "source": [
    "if False:\n",
    "    print \"By Zeus's hammer!\"\n",
    "else:\n",
    "    print \"By Aquaman's trident!\""
   ]
  },
  {
   "cell_type": "markdown",
   "metadata": {},
   "source": [
    "There is also a one-liner version if you want to work with values:"
   ]
  },
  {
   "cell_type": "code",
   "execution_count": 119,
   "metadata": {
    "collapsed": false
   },
   "outputs": [
    {
     "name": "stdout",
     "output_type": "stream",
     "text": [
      "By Zeus's hammer!\n"
     ]
    }
   ],
   "source": [
    "saying = \"By Zeus's hammer!\" if True else \"By Aquaman's trident!\"\n",
    "print saying"
   ]
  },
  {
   "cell_type": "code",
   "execution_count": 120,
   "metadata": {
    "collapsed": false
   },
   "outputs": [
    {
     "name": "stdout",
     "output_type": "stream",
     "text": [
      "By Aquaman's trident!\n"
     ]
    }
   ],
   "source": [
    "saying = \"By Zeus's hammer!\" if False else \"By Aquaman's trident!\"\n",
    "print saying"
   ]
  },
  {
   "cell_type": "markdown",
   "metadata": {},
   "source": [
    "In Python, a multibranch conditional is created with `elif`:"
   ]
  },
  {
   "cell_type": "code",
   "execution_count": 121,
   "metadata": {
    "collapsed": false
   },
   "outputs": [
    {
     "name": "stdout",
     "output_type": "stream",
     "text": [
      "By Zeus's hammer!\n"
     ]
    }
   ],
   "source": [
    "if True:\n",
    "    print \"By Zeus's hammer!\"\n",
    "elif False:\n",
    "    print \"By Aquaman's trident!\"\n",
    "else:\n",
    "    print \"By Odin's spear!\""
   ]
  },
  {
   "cell_type": "code",
   "execution_count": 122,
   "metadata": {
    "collapsed": false
   },
   "outputs": [
    {
     "name": "stdout",
     "output_type": "stream",
     "text": [
      "By Odin's spear!\n"
     ]
    }
   ],
   "source": [
    "if False:\n",
    "    print \"By Zeus's hammer!\"\n",
    "elif False:\n",
    "    print \"By Aquaman's trident!\"\n",
    "else:\n",
    "    print \"By Odin's spear!\""
   ]
  },
  {
   "cell_type": "code",
   "execution_count": 123,
   "metadata": {
    "collapsed": false
   },
   "outputs": [
    {
     "name": "stdout",
     "output_type": "stream",
     "text": [
      "By Aquaman's trident!\n"
     ]
    }
   ],
   "source": [
    "if False:\n",
    "    print \"By Zeus's hammer!\"\n",
    "elif True:\n",
    "    print \"By Aquaman's trident!\"\n",
    "else:\n",
    "    print \"By Odin's spear!\""
   ]
  },
  {
   "cell_type": "markdown",
   "metadata": {},
   "source": [
    "Of course, your tests should be more interesting that the Boolean literals above. It is worth noting at this juncture that the conjunction operator is `and` not `&`. Additionally, the inequality operators chain:"
   ]
  },
  {
   "cell_type": "code",
   "execution_count": 124,
   "metadata": {
    "collapsed": false
   },
   "outputs": [
    {
     "name": "stdout",
     "output_type": "stream",
     "text": [
      "yes, it is in the range\n",
      "yes, they are both in the range\n"
     ]
    }
   ],
   "source": [
    "x = 10\n",
    "y = 20\n",
    "\n",
    "if 0 < x < 20:\n",
    "    print \"yes, it is in the range\"\n",
    "\n",
    "if 0 < x < 20 and 0 < y < 100:\n",
    "    print \"yes, they are both in the range\""
   ]
  },
  {
   "cell_type": "markdown",
   "metadata": {},
   "source": [
    "It's worth looking at all the Python Boolean operators. There are some additional surprises there like when to use `not`.\n",
    "\n",
    "`while` comes in handy when you must conditionally evaluate some stream or collection:"
   ]
  },
  {
   "cell_type": "code",
   "execution_count": 125,
   "metadata": {
    "collapsed": false
   },
   "outputs": [
    {
     "name": "stdout",
     "output_type": "stream",
     "text": [
      "abcdefghijk\n"
     ]
    }
   ],
   "source": [
    "xs = \"abcdefghijk\\nlmnopqrstuvwxyz\"\n",
    "result = \"\"\n",
    "x = xs[ 0]\n",
    "while x != \"\\n\":\n",
    "    result += x\n",
    "    xs = xs[1:]\n",
    "    x = xs[ 0]\n",
    "print result"
   ]
  },
  {
   "cell_type": "markdown",
   "metadata": {},
   "source": [
    "An interesting side note, Python treats the string `xs` as a List so we can use random access and slicing."
   ]
  },
  {
   "cell_type": "markdown",
   "metadata": {},
   "source": [
    "### Iteration\n",
    "\n",
    "Looking narrowly at data flow, we find we often have collections of similar data records such as people, orders, items for sale, etc. And that we often need to perform operations on these collections. For example, if we need to re-invoice all past due orders, we will *iterate* over the orders, determine which ones have not been paid in the last 30 days and send an email indicating that they are over due.\n",
    "\n",
    "There are a number of ways to do this, even in Python. The simplest way is to use `for`:"
   ]
  },
  {
   "cell_type": "code",
   "execution_count": 126,
   "metadata": {
    "collapsed": false
   },
   "outputs": [
    {
     "name": "stdout",
     "output_type": "stream",
     "text": [
      "1\n",
      "2\n",
      "3\n",
      "4\n"
     ]
    }
   ],
   "source": [
    "for x in [1, 2, 3, 4]:\n",
    "    print x"
   ]
  },
  {
   "cell_type": "markdown",
   "metadata": {},
   "source": [
    "`for` is the perfect loop to use at the impure boundaries of your program, for example, when you are reading data or writing data. The `for` loop already eschews the problems associated with iterating using indices as JavaScript or old fashioned Java:\n",
    "\n",
    "```\n",
    "xs = [1, 2, 3, 4];\n",
    "for (int i = 0; i < length( xs); i++) {\n",
    "    println( xs[ i]);\n",
    "}\n",
    "```"
   ]
  },
  {
   "cell_type": "markdown",
   "metadata": {},
   "source": [
    "There are some algorithms that require actual knowledge of the indices. This can be achieved using `enumerate`. While not particularly functional, since we are mostly \"stuck\" with mutable data structures, we should use what Python provides:"
   ]
  },
  {
   "cell_type": "code",
   "execution_count": 127,
   "metadata": {
    "collapsed": false
   },
   "outputs": [
    {
     "name": "stdout",
     "output_type": "stream",
     "text": [
      "0 a\n",
      "1 b\n",
      "2 c\n",
      "3 d\n"
     ]
    }
   ],
   "source": [
    "for i, x in enumerate([\"a\", \"b\", \"c\", \"d\"]):\n",
    "    print i, x"
   ]
  },
  {
   "cell_type": "markdown",
   "metadata": {},
   "source": [
    "An equally common operation is to apply a function to each element of a List, creating a new List:"
   ]
  },
  {
   "cell_type": "code",
   "execution_count": 128,
   "metadata": {
    "collapsed": false
   },
   "outputs": [
    {
     "name": "stdout",
     "output_type": "stream",
     "text": [
      "[1, 4, 9, 16]\n"
     ]
    }
   ],
   "source": [
    "def process( x):\n",
    "    return x ** 2\n",
    "\n",
    "xs = [1, 2, 3, 4]\n",
    "result = []\n",
    "for x in xs:\n",
    "    result.append(process( x))\n",
    "print result"
   ]
  },
  {
   "cell_type": "markdown",
   "metadata": {},
   "source": [
    "It is more Pythonic to use a List Comprehension:"
   ]
  },
  {
   "cell_type": "code",
   "execution_count": 129,
   "metadata": {
    "collapsed": false
   },
   "outputs": [
    {
     "name": "stdout",
     "output_type": "stream",
     "text": [
      "[1, 4, 9, 16]\n"
     ]
    }
   ],
   "source": [
    "result = [process( x) for x in xs]\n",
    "print result"
   ]
  },
  {
   "cell_type": "markdown",
   "metadata": {},
   "source": [
    "In functional programming, this operation is called `map`. Python has a `map` function as well. It takes a function and a List as arguments:"
   ]
  },
  {
   "cell_type": "code",
   "execution_count": 130,
   "metadata": {
    "collapsed": false
   },
   "outputs": [
    {
     "name": "stdout",
     "output_type": "stream",
     "text": [
      "[1, 4, 9, 16]\n"
     ]
    }
   ],
   "source": [
    "result = map( process, xs)\n",
    "print result"
   ]
  },
  {
   "cell_type": "markdown",
   "metadata": {},
   "source": [
    "Sometimes we want to operate on a subset of the List, xs. This operation is called `filter` and is built into the List Comprehension. The Pythonic Way is:"
   ]
  },
  {
   "cell_type": "code",
   "execution_count": 131,
   "metadata": {
    "collapsed": false
   },
   "outputs": [
    {
     "name": "stdout",
     "output_type": "stream",
     "text": [
      "[4, 16]\n"
     ]
    }
   ],
   "source": [
    "result = [process( x) for x in xs if x % 2 == 0]\n",
    "print result"
   ]
  },
  {
   "cell_type": "markdown",
   "metadata": {},
   "source": [
    "The functional way is to use `filter`. We'll use a `lambda` for our predicate function:"
   ]
  },
  {
   "cell_type": "code",
   "execution_count": 132,
   "metadata": {
    "collapsed": false
   },
   "outputs": [
    {
     "name": "stdout",
     "output_type": "stream",
     "text": [
      "[4, 16]\n"
     ]
    }
   ],
   "source": [
    "result = map( process, filter( lambda x: x % 2 == 0, xs))\n",
    "print result"
   ]
  },
  {
   "cell_type": "markdown",
   "metadata": {},
   "source": [
    "The final operation of functional programming's \"Holy Trinity\" is `reduce`. There is no Pythonic reduce because reduce results in a single value not a List (although the single value, confusingly enough, can be a List). `reduce` takes a function of two arguments, an *accumulator* and a single value, a list and optionally a starting accumulator value and returns the result."
   ]
  },
  {
   "cell_type": "code",
   "execution_count": 133,
   "metadata": {
    "collapsed": false
   },
   "outputs": [
    {
     "name": "stdout",
     "output_type": "stream",
     "text": [
      "10\n",
      "110\n",
      "20\n"
     ]
    }
   ],
   "source": [
    "result = reduce( lambda acc, x: acc + x, xs)\n",
    "print result\n",
    "\n",
    "result = reduce( lambda acc, x: acc + x, xs, 100)\n",
    "print result\n",
    "\n",
    "result = reduce( lambda acc, x: acc + x, map( process, filter( lambda x: x % 2 == 0, xs)))\n",
    "print result"
   ]
  },
  {
   "cell_type": "markdown",
   "metadata": {},
   "source": [
    "The first execution over the values of `xs` is essentialy 1 + 2 = 3, 3 + 3 = 6, 6 + 4 = 10. The second execution starts with 100 and goes 100 + 1 = 101, 101 + 2 = 103, 103 + 3 = 106, 106 + 4 = 110. The final execution goes 4 + 16 = 20.\n",
    "\n",
    "<div style=\"border: 1px solid black; padding: 10px 10px 10px 10px; margin-top: 10px;\">\n",
    "<p><strong>Exercise</strong></p>\n",
    "<p>Write <tt>map</tt> as <tt>my_map</tt> and <tt>filter</tt> as <tt>my_filter</tt> using <tt>reduce</tt></p>\n",
    "</div>"
   ]
  },
  {
   "cell_type": "markdown",
   "metadata": {},
   "source": [
    "#### Recursion\n",
    "\n",
    "Recursion is often a major part of functional programming. Unfortunately, it is not particularly emphasized in most OOP languages and so the runtimes for those languages often have limited support for recursion or are unable to optimize recursive calls. What is recursion?\n",
    "\n",
    "Recursion is when a function calls itself. This seems kind of daft. Why would a function call itself? It turns out that recursion is often a natural way of expressing certain kinds of computations especially computations that can be broken down into a sort of \"perform some work and combine with previous work\" approach.\n",
    "\n",
    "Let's look at an example. The function `map` takes a List and a function and applies the function to each element of the List, creating a new List in the process.\n",
    "\n",
    "We'll start with an *iterative* version:"
   ]
  },
  {
   "cell_type": "code",
   "execution_count": 134,
   "metadata": {
    "collapsed": true
   },
   "outputs": [],
   "source": [
    "def my_iterative_map( f, xs):\n",
    "    result = []\n",
    "    for x in xs:\n",
    "        result.append( f( x))\n",
    "    return result"
   ]
  },
  {
   "cell_type": "code",
   "execution_count": 135,
   "metadata": {
    "collapsed": false
   },
   "outputs": [
    {
     "name": "stdout",
     "output_type": "stream",
     "text": [
      "[10, 20, 30, 40, 50]\n"
     ]
    }
   ],
   "source": [
    "def times10( x):\n",
    "    return x * 10\n",
    "\n",
    "print my_iterative_map( times10, [1, 2, 3, 4, 5])"
   ]
  },
  {
   "cell_type": "markdown",
   "metadata": {},
   "source": [
    "Easy enough. What would a recursive version look like?\n",
    "\n",
    "In Python, function overloading is not permitted (you cannot write functions with the same name but differ only in terms of numbers of arguments). Because of this, our actual recursive function will be defined and used inside the function called by the programmer:"
   ]
  },
  {
   "cell_type": "code",
   "execution_count": 136,
   "metadata": {
    "collapsed": true
   },
   "outputs": [],
   "source": [
    "def my_recursive_map( f, xs):\n",
    "    def recursive_map( acc, remainder):\n",
    "        if len( remainder) == 0:\n",
    "            return acc\n",
    "        acc.append( f( remainder[0])) # append does not return the caller.\n",
    "        return recursive_map( acc, remainder[1:])\n",
    "    return recursive_map([], xs)"
   ]
  },
  {
   "cell_type": "code",
   "execution_count": 137,
   "metadata": {
    "collapsed": false
   },
   "outputs": [
    {
     "name": "stdout",
     "output_type": "stream",
     "text": [
      "[10, 20, 30, 40, 50]\n"
     ]
    }
   ],
   "source": [
    "print my_recursive_map( times10, [1, 2, 3, 4, 5])"
   ]
  },
  {
   "cell_type": "markdown",
   "metadata": {},
   "source": [
    "A recursive implementation is very much similar to an inductive proof. There is a *base case*...when there is no more work to be done and an *inductive step* when one step in the calculate is performed. Note that because the `recursive_map` function is defined inside the `my_recursive_map` function, the former is a closure over the value of `f` which need not be an argument to `recursive_map`.\n",
    "\n",
    "There are a number of ways in which recursion is a bit clumsier in Python:\n",
    "\n",
    "1. No function overloading or destructuring.\n",
    "2. Not everything is an expression.\n",
    "\n",
    "In many actual functional programming languages, the implementation would look something closer to this:\n",
    "\n",
    "```python\n",
    "def my_recursive_map( f, xs):\n",
    "  return my_recursive_map(f, xs, [])\n",
    " \n",
    "def my_recursive_map( f, xs, acc):\n",
    "  if len( xs) == 0:\n",
    "    return acc\n",
    "  return my_recursive_map( f, xs[1:], acc.append( f(xs[0]))\n",
    "```\n",
    "\n",
    "Recursion is a whole 'nother topic as they say. Any recursive algorithm can be re-written as an iterative algorithm and vice versa. Additionally, many such algorithms already conform to some well-known pattern such as `map`, `reduce` or `filter` so you are well advised to use one of those.\n",
    "\n",
    "However, that might not always be the case and there are some AI algorithms are are best and naturally written as either recursive or *co-recursive* functions (`f` calls `g` which calls `f`...etc). These include alpha-beta prunining in Adversarial Search as well as Decision Tree induction.\n",
    "\n",
    "Therefore you should at least be aware that Python has a recursion depth limit of 1000 by default. If we tried to run the `my_recursive_map` on a list that was more than 1000 elements long, we would get an exception. This can be fixed with the following code:\n",
    "\n",
    "```python\n",
    "import sys\n",
    "\n",
    "sys.setrecursionlimit(1500)\n",
    "```\n",
    "\n",
    "or to whatever limit you require. You should not set it to be more than you need, however."
   ]
  },
  {
   "cell_type": "markdown",
   "metadata": {},
   "source": [
    "Whether you choose to use map, filter, reduce or List Comprehensions plus reduce is up to you. For myself, I tend to use map, filter and reduce to keep things consistent but there's no denying that List Comprehensions are prettier.\n",
    "\n",
    "You should never use recursion *first* but try to see if your calculation fits some existing transformational pattern. Then check to see if an iterative version is simpler. Finally, you may need to create a recursive version (although this is just advice for Python in a Functional Style...recursion is often easier than iteration in functional programming languages).\n",
    "\n",
    "Functional programming languages typically have a whole host of other higher order functions for operating on Lists. Some of them are irrelevant in Python. For example, `first` is just `xs[ 0]` and `rest` is just `xs[1:]`. `last` is `xs[-1]` and `butlast` is `xs[0:-1]`, `take` *n* is `xs[0:n]`, `drop` *n* is `xs[n:]`:"
   ]
  },
  {
   "cell_type": "code",
   "execution_count": 138,
   "metadata": {
    "collapsed": false
   },
   "outputs": [
    {
     "name": "stdout",
     "output_type": "stream",
     "text": [
      "first( xs) = 1\n",
      "rest( xs) = [2, 3, 4]\n",
      "last( xs) = 4\n",
      "butlast( xs) = [1, 2, 3]\n",
      "take( 2, xs) = [1, 2]\n",
      "drop( 2, xs) = [3, 4]\n"
     ]
    }
   ],
   "source": [
    "xs = [1, 2, 3, 4]\n",
    "print \"first( xs) =\", xs[ 0]\n",
    "print \"rest( xs) =\", xs[1:]\n",
    "print \"last( xs) =\", xs[ -1]\n",
    "print \"butlast( xs) =\", xs[0:-1]\n",
    "print \"take( 2, xs) =\", xs[0:2]\n",
    "print \"drop( 2, xs) =\", xs[2:]"
   ]
  },
  {
   "cell_type": "markdown",
   "metadata": {},
   "source": [
    "### More About Functions\n",
    "\n",
    "There's no doubt that the following is a bit ugly:\n",
    "\n",
    "```python\n",
    "result = reduce( lambda acc, x: acc + x, map( process, filter( lambda x: x % 2 == 0, xs)))\n",
    "```\n",
    "\n",
    "One solution is to break it apart:\n",
    "\n",
    "```python\n",
    "filtered_xs = filter( lambda x: x % 2 == 0, xs)\n",
    "mapped_xs = map( process, filtered_xs)\n",
    "result = reduce( lambda acc, x: acc + x, mapped_xs)\n",
    "```\n",
    "\n",
    "It's not always easy to come up with semantically meaningful names for the intermediate products of a computation, though. Actual function programming languages have a sense of function composition and in languages like Clojure, a threading macro (operator):\n",
    "\n",
    "```clojure\n",
    "(->> xs\n",
    "    (filter even?)\n",
    "    (map process)\n",
    "    (reduce +))\n",
    "```\n",
    "\n",
    "a macro re-writes code before execution. The result of the above macro is the code:\n",
    "\n",
    "```clojure\n",
    "(reduce + (map process (filter even? xs)))\n",
    "```\n",
    "\n",
    "We can actually make our own code somewhat better with some named functions:\n",
    "\n",
    "```python\n",
    "def add( a, b):\n",
    "    return a + b\n",
    "\n",
    "def even( a):\n",
    "    return a % 2 == 0\n",
    "\n",
    "result = reduce( add, map( process, filter( even, xs)))\n",
    "```\n",
    "\n",
    "which shows that the inline, anonymous functions were creating some of the \"noise\". As it turns out, you can get a lot of functions like `add` from the `operator` module, [Operators As Functions](https://docs.python.org/2/library/operator.html).\n",
    "\n",
    "However, this isn't nearly as general as what's available in actual programming languages. One way to obtain this generality is to realize that 1. functions are values, 2. values can be put into Lists, and 3. `reduce` can be used to walk over a List:"
   ]
  },
  {
   "cell_type": "code",
   "execution_count": 139,
   "metadata": {
    "collapsed": true
   },
   "outputs": [],
   "source": [
    "def compose(fs):\n",
    "    return lambda start: reduce( lambda x, f: f( x), fs, start)"
   ]
  },
  {
   "cell_type": "markdown",
   "metadata": {},
   "source": [
    "We can use `compose` to create a function that takes a value and adds 2 to it, then multiplies it by 10 and finally subtracts 5:"
   ]
  },
  {
   "cell_type": "code",
   "execution_count": 140,
   "metadata": {
    "collapsed": false
   },
   "outputs": [
    {
     "name": "stdout",
     "output_type": "stream",
     "text": [
      "115\n",
      "35\n"
     ]
    }
   ],
   "source": [
    "g = compose([lambda x: x + 2, lambda x: x * 10, lambda x: x - 5])\n",
    "print g( 10)\n",
    "print g( 2)"
   ]
  },
  {
   "cell_type": "markdown",
   "metadata": {},
   "source": [
    "The downside to such an arrangement is that you can only compose functions that take a single argument. There are number of ways around this. First, using a dataflow approach, that single argument can be a Dict. We'll see an example later where this might work. Second, Python does have some functional programming tools like `partial` that creates a \"partial\" function.\n",
    "\n",
    "#### partial functions\n",
    "\n",
    "A *partial* function is one where some of the arguments have already been supplied. It's kind of like providing default values but you do it on the \"outside\" of the function. Here's an example:"
   ]
  },
  {
   "cell_type": "code",
   "execution_count": 141,
   "metadata": {
    "collapsed": false
   },
   "outputs": [],
   "source": [
    "from functools import partial\n",
    "from operator import add, sub, mul"
   ]
  },
  {
   "cell_type": "code",
   "execution_count": 142,
   "metadata": {
    "collapsed": false
   },
   "outputs": [
    {
     "name": "stdout",
     "output_type": "stream",
     "text": [
      "12\n",
      "22\n",
      "4\n"
     ]
    }
   ],
   "source": [
    "add2 = partial( add, 2)\n",
    "print add2( 10)\n",
    "print add2( 20)\n",
    "print add2( 2)"
   ]
  },
  {
   "cell_type": "markdown",
   "metadata": {},
   "source": [
    "The downside to such an approach is that you have to supply the values in order. That is, if a function takes 5 arguments, you must supply either the first, first and second, first and second and third, etc. You cannot supply the first and fifth. In order to accomplish that, you need to create a function directly or indirectly:"
   ]
  },
  {
   "cell_type": "code",
   "execution_count": 143,
   "metadata": {
    "collapsed": false
   },
   "outputs": [
    {
     "name": "stdout",
     "output_type": "stream",
     "text": [
      "48\n"
     ]
    }
   ],
   "source": [
    "def addmul( a, b, c):\n",
    "    return (a + b) * c\n",
    "\n",
    "add3mul4 = lambda x: addmul( 2, x, 4)\n",
    "print add3mul4( 10)"
   ]
  },
  {
   "cell_type": "markdown",
   "metadata": {},
   "source": [
    "Actually creating `addmul` only makes sense if you're going to use it over and over again. You could just use a `lambda` otherwise."
   ]
  },
  {
   "cell_type": "markdown",
   "metadata": {},
   "source": [
    "## Building Programs\n",
    "\n",
    "We're now in a position to actually solve a problem using Python in a functional style. The main tenets are:\n",
    "\n",
    "1. The boundaries of the program are composed of impure functions. These are the functions that talk to the database or print output.\n",
    "2. The core of the program is composed of pure functions. In a *Dataflow* model, they operate on collections of collections of primitive data types using higher order functions. They are easily testable because they always return a value.\n",
    "3. The pure functions focus on operations in the domain language of the problem being solved and thus tend to be a domain specific language. This is often expressed as a declarative v. imperative approach. Arrange your program so that it is composed of functions that saw *what* to do, not *how* to do it.\n",
    "\n",
    "### Race Cars\n",
    "\n",
    "We're going to start with a simple example that neatly expresses the differences between an imperative and declarative program. This example is taking from [A practical introduction to functional programming](https://maryrosecook.com/blog/post/a-practical-introduction-to-functional-programming). It involves racing cars. I have made a few modifications to the declarative version to make it more functional.\n",
    "\n",
    "Basically, each car is a `-` and there are three of them. At each time step, we randomly move the cars. The car that goes the furthest in 5 time steps is the winner. The program below is imperative, it describes \"how\". It includes comments to indicate the semantics of various parts of the code:"
   ]
  },
  {
   "cell_type": "code",
   "execution_count": 144,
   "metadata": {
    "collapsed": false
   },
   "outputs": [
    {
     "name": "stdout",
     "output_type": "stream",
     "text": [
      "\n",
      "t= 1\n",
      "--\n",
      "--\n",
      "-\n",
      "\n",
      "t= 2\n",
      "---\n",
      "---\n",
      "-\n",
      "\n",
      "t= 3\n",
      "----\n",
      "----\n",
      "--\n",
      "\n",
      "t= 4\n",
      "-----\n",
      "-----\n",
      "---\n",
      "\n",
      "t= 5\n",
      "-----\n",
      "------\n",
      "----\n"
     ]
    }
   ],
   "source": [
    "from random import random\n",
    "\n",
    "time = 5\n",
    "car_positions = [1, 1, 1]\n",
    "\n",
    "while time:\n",
    "    # decrease time\n",
    "    time -= 1\n",
    "\n",
    "    print ''\n",
    "    print 't=', 5 - time\n",
    "    for i in range(len(car_positions)):\n",
    "        # move car\n",
    "        if random() > 0.3:\n",
    "            car_positions[i] += 1\n",
    "\n",
    "        # draw car\n",
    "        print '-' * car_positions[i]"
   ]
  },
  {
   "cell_type": "markdown",
   "metadata": {},
   "source": [
    "Below we have a *declarative* version of the same program:"
   ]
  },
  {
   "cell_type": "code",
   "execution_count": 145,
   "metadata": {
    "collapsed": false
   },
   "outputs": [
    {
     "name": "stdout",
     "output_type": "stream",
     "text": [
      "\n",
      "t= 1\n",
      "--\n",
      "--\n",
      "--\n",
      "\n",
      "t= 2\n",
      "--\n",
      "---\n",
      "---\n",
      "\n",
      "t= 3\n",
      "--\n",
      "----\n",
      "---\n",
      "\n",
      "t= 4\n",
      "--\n",
      "-----\n",
      "----\n",
      "\n",
      "t= 5\n",
      "---\n",
      "-----\n",
      "-----\n"
     ]
    }
   ],
   "source": [
    "def move_cars():\n",
    "    for i, _ in enumerate(car_positions):\n",
    "        if random() > 0.3:\n",
    "            \n",
    "            car_positions[i] += 1\n",
    "\n",
    "def draw_car(car_position):\n",
    "    print '-' * car_position\n",
    "\n",
    "def run_step_of_race( time):\n",
    "    time -= 1\n",
    "    move_cars()\n",
    "    return time\n",
    "\n",
    "def draw( time):\n",
    "    print ''\n",
    "    print \"t=\", 5 - time\n",
    "    for car_position in car_positions:\n",
    "        draw_car(car_position)\n",
    "\n",
    "time = 5\n",
    "car_positions = [1, 1, 1]\n",
    "\n",
    "while time:\n",
    "    time = run_step_of_race( time)\n",
    "    draw( time)"
   ]
  },
  {
   "cell_type": "markdown",
   "metadata": {},
   "source": [
    "We can see a few differences here. We created functions with semantic meaning that did one job. The program is built by arranging these functions.\n",
    "\n",
    "We're going to expand on this idea by solving a problem from [Programming Challenge](https://uva.onlinejudge.org/index.php). I much prefer the Programming Challenges problems to the pure mathematics problems often found for learning programming because the challenges often bear some resemblance to real life problems whereas the mathematical problems often require some domain knowledge (about primes, for example) and, to me at least, feel artificial.\n",
    "\n",
    "The problem we will attempt to solve is [Challenge 119 - Greedy Gift Givers](https://uva.onlinejudge.org/index.php?option=com_onlinejudge&Itemid=8&category=3&page=show_problem&problem=55)."
   ]
  },
  {
   "cell_type": "markdown",
   "metadata": {},
   "source": [
    "### Greedy Gift Givers\n",
    "\n",
    "We have a group of friends that engage in gift giving. Each friend has closer friends within the group that they give gifts to and they set aside an amount for gift giving. Each recipient receives a gift of equal value and the gift is an integer value. Any remaining funds are considered as a \"self gift\" in the calculation. \n",
    "\n",
    "This program, somewhat cynically, calculates the net gifting of each person in the group of friends. The input is as follows:\n",
    "\n",
    "```\n",
    "5\n",
    "dave laura owen vick amr\n",
    "dave 200 3 laura owen vick\n",
    "owen 500 1 dave\n",
    "amr 150 2 vick owen\n",
    "laura 0 2 amr vick\n",
    "vick 0 0\n",
    "```\n",
    "which encodes:\n",
    "\n",
    "* the number of people in the group (5)\n",
    "* the people in the group\n",
    "* for each person, who the person is, how much their gift fund is, how many recipients they give gifts to and who the recipients are.\n",
    "\n",
    "and the correct output for this input is:\n",
    "\n",
    "```\n",
    "amr -150\n",
    "dave 304\n",
    "laura 66\n",
    "owen -359\n",
    "vick 141\n",
    "```\n",
    "\n",
    "I leave it for you to decide who made out in this arrangement."
   ]
  },
  {
   "cell_type": "markdown",
   "metadata": {},
   "source": [
    "There are a lot of ways to skin this beast but the basics include the following function outline:\n",
    "\n",
    "* `read_input()` - impure function that reads the string and translates/parses it into a data structure of some kind.\n",
    "* `calculate_net_gifts()` - a pure function that reads the data structure from above and outputs a new data structure with net gifting (or the same data structure with net gifting amounts).\n",
    "* `write_output()` - impure function that writes the net gifting amounts based on the data structure of net gifting.\n",
    "\n",
    "We can write and test these functions individually and then compose them into a `solve_problem` function that the end. We're going to take an somewhat overcomplicated approach so that you can get a taste of functional programming and dataflows.\n",
    "\n",
    "We want the `read_input` function to read the string with the raw data and output a Dict with the following format:\n",
    "\n",
    "```python\n",
    "{\"dave\": {\"fund\": 200, \"recipients\": [\"laura\", \"owen\", \"vick\"]},\n",
    " \"owen\": {\"fund\": 500, \"recipients\": [\"dave\"]},\n",
    " \"amr\": {\"fund\": 150, \"recipients\": [\"vick\", \"owen\"]},\n",
    " \"laura\": {\"fund\": 0, \"recipients\": [\"amr\", \"vick\"]},\n",
    " \"vick\": {\"fund\": 0, \"recipients\": []}}\n",
    "```\n",
    "\n",
    "in the end, we want the data structure to be:\n",
    "\n",
    "```python\n",
    "{\"dave\": {\"fund\": 200, \"recipients\": [\"laura\", \"owen\", \"vick\"], \"gift\": 66, \"given\": 198, \"received\": 502, \"net\": 304},\n",
    " \"owen\": {\"fund\": 500, \"recipients\": [\"dave\"], \"gift\": 500, \"given\": 500, \"received\": 141, \"net\": -359},\n",
    " \"amr\": {\"fund\": 150, \"recipients\": [\"vick\", \"owen\"], \"gift\": 75, \"given\": 150, \"received\": 0, \"net\": -150},\n",
    " \"laura\": {\"fund\": 0, \"recipients\": [\"amr\", \"vick\"], \"gift\": 0, \"given\": 0, \"received\": 66, \"net\": 66},\n",
    " \"vick\": {\"fund\": 0, \"recipients\": [], \"gift\": 0, \"given\": 0, \"received\": 141, \"net\": 141}}\n",
    "```\n",
    "\n",
    "that is, we want `calculuate_net_giftin` to enrich the original data structure, step by step, so that we can test it along the way.\n",
    "\n",
    "The steps should be:\n",
    "\n",
    "1. Calculate gift, given and starting received.\n",
    "2. Calculate received.\n",
    "3. Calculate net."
   ]
  },
  {
   "cell_type": "markdown",
   "metadata": {},
   "source": [
    "#### Step 1.\n",
    "\n",
    "We can assume that we already have the initial data structure. We want to write the first step which adds \"gift\", \"given\" and \"received\" to each individual map. If we had such a function then we could simply call it on the value of each key in the outer data Dict. Let's say it's called `calculate_gifts`.\n",
    "\n",
    "The question becomes, how do we apply it to each value in `data`? This is sort of like `map` but it's not being applied to a List but a Dict and more specifically the values of the Dict (we could imagine a `map` that is applied to the *keys* of Dict as well).\n",
    "\n",
    "This is where familiarity with the basic Python language is helpful. We can:\n",
    "\n",
    "1. create a Dict from a List of Tuples using `dict( xs)`.\n",
    "2. generate a List of Tuples from a Dict using `items()`.\n",
    "\n",
    "We can define `dmap` as follows:"
   ]
  },
  {
   "cell_type": "code",
   "execution_count": 146,
   "metadata": {
    "collapsed": true
   },
   "outputs": [],
   "source": [
    "def dmap(f, m):\n",
    "    return dict( map( lambda (k, v): (k, f( v)), m.items()))"
   ]
  },
  {
   "cell_type": "code",
   "execution_count": 147,
   "metadata": {
    "collapsed": false
   },
   "outputs": [
    {
     "data": {
      "text/plain": [
       "{'a': 2, 'b': 3}"
      ]
     },
     "execution_count": 147,
     "metadata": {},
     "output_type": "execute_result"
    }
   ],
   "source": [
    "dmap( partial( add, 1), {\"a\": 1, \"b\": 2})"
   ]
  },
  {
   "cell_type": "markdown",
   "metadata": {},
   "source": [
    "And this is where we get to \"programming by wishful thinking\", we simply apply `dmap` to a function we wish we had:\n",
    "\n",
    "```python\n",
    "def calculate_all_gifts( data):\n",
    "    return dmap( calculate_gifts, data)\n",
    "```\n",
    "\n",
    "One of the problems with an *interpreted* language like Python, however, is that we need to define functions in a particular order. Specifically, we must define functions before they are called. This makes this *top/down* approach a bit difficult in Python.\n",
    "\n",
    "The alternative is to recognize we needed the `calculate_gifts` function and start there instead. This is the bottom/up approach. In either case, we are working declaratively...we are creating units of code that express what to do.\n",
    "\n",
    "That function will take a person's Dict and calculate an integer gift value, the total amount given away and the remainder as the initial value for received:"
   ]
  },
  {
   "cell_type": "code",
   "execution_count": 148,
   "metadata": {
    "collapsed": true
   },
   "outputs": [],
   "source": [
    "def calculate_gifts( person_data):\n",
    "    recipient_count = len( person_data[ \"recipients\"])\n",
    "    person_data[ \"gift\"] = 0 if recipient_count == 0 else person_data[ \"fund\"] // recipient_count # // is floor division\n",
    "    person_data[ \"given\"] = person_data[ \"gift\"] * recipient_count\n",
    "    person_data[ \"received\"] = person_data[ \"fund\"] - person_data[ \"given\"]\n",
    "    return person_data"
   ]
  },
  {
   "cell_type": "markdown",
   "metadata": {},
   "source": [
    "We can easily test this bit of code (more generally you'd use a legit Python test framework like `nose`):"
   ]
  },
  {
   "cell_type": "code",
   "execution_count": 149,
   "metadata": {
    "collapsed": false
   },
   "outputs": [
    {
     "name": "stdout",
     "output_type": "stream",
     "text": [
      "{'fund': 200, 'given': 198, 'gift': 66, 'recipients': ['laura', 'owen', 'vick'], 'received': 2}\n"
     ]
    }
   ],
   "source": [
    "print calculate_gifts( {\"fund\": 200, \"recipients\": [\"laura\", \"owen\", \"vick\"]})"
   ]
  },
  {
   "cell_type": "markdown",
   "metadata": {},
   "source": [
    "This indeed looks like what we expect the result to be. Now we can move to `calculate_all_gifts`:"
   ]
  },
  {
   "cell_type": "code",
   "execution_count": 150,
   "metadata": {
    "collapsed": true
   },
   "outputs": [],
   "source": [
    "def calculate_all_gifts( data):\n",
    "    return dmap( calculate_gifts, data)"
   ]
  },
  {
   "cell_type": "code",
   "execution_count": 151,
   "metadata": {
    "collapsed": false
   },
   "outputs": [
    {
     "name": "stdout",
     "output_type": "stream",
     "text": [
      "{'laura': {'fund': 0, 'given': 0, 'gift': 0, 'recipients': ['amr', 'vick'], 'received': 0}, 'vick': {'fund': 0, 'given': 0, 'gift': 0, 'recipients': [], 'received': 0}, 'dave': {'fund': 200, 'given': 198, 'gift': 66, 'recipients': ['laura', 'owen', 'vick'], 'received': 2}, 'owen': {'fund': 500, 'given': 500, 'gift': 500, 'recipients': ['dave'], 'received': 0}, 'amr': {'fund': 150, 'given': 150, 'gift': 75, 'recipients': ['vick', 'owen'], 'received': 0}}\n"
     ]
    }
   ],
   "source": [
    "print calculate_all_gifts( {\"dave\": {\"fund\": 200, \"recipients\": [\"laura\", \"owen\", \"vick\"]},\n",
    " \"owen\": {\"fund\": 500, \"recipients\": [\"dave\"]},\n",
    " \"amr\": {\"fund\": 150, \"recipients\": [\"vick\", \"owen\"]},\n",
    " \"laura\": {\"fund\": 0, \"recipients\": [\"amr\", \"vick\"]},\n",
    " \"vick\": {\"fund\": 0, \"recipients\": []}})"
   ]
  },
  {
   "cell_type": "markdown",
   "metadata": {},
   "source": [
    "That looks good so we can move on to the next step which is to distribute the gifts. This is a bit more complicated. We want to have a single person's gifting and apply it to the correct people in the overall data. With a nested data structure like we have, we're going to have to take it apart to modify the \"received\" value.\n",
    "\n",
    "Because Python has mutable data structures, we can use a `for` loop to modify the Dicts instead of `map` because modification of a data structure in-place is an impure action. We'll talk a bit about this later."
   ]
  },
  {
   "cell_type": "code",
   "execution_count": 152,
   "metadata": {
    "collapsed": true
   },
   "outputs": [],
   "source": [
    "def distribute_gifts( data, person):\n",
    "    for recipient in person[ \"recipients\"]:\n",
    "        data[ recipient][\"received\"] = data[ recipient][\"received\"] + person[ \"gift\"]\n",
    "    return data"
   ]
  },
  {
   "cell_type": "markdown",
   "metadata": {},
   "source": [
    "Note that in order to test our function we now need the result of the previous function:"
   ]
  },
  {
   "cell_type": "code",
   "execution_count": 153,
   "metadata": {
    "collapsed": false
   },
   "outputs": [
    {
     "name": "stdout",
     "output_type": "stream",
     "text": [
      "laura {'fund': 0, 'given': 0, 'gift': 0, 'recipients': ['amr', 'vick'], 'received': 66}\n",
      "owen {'fund': 500, 'given': 500, 'gift': 500, 'recipients': ['dave'], 'received': 66}\n",
      "vick {'fund': 0, 'given': 0, 'gift': 0, 'recipients': [], 'received': 66}\n"
     ]
    }
   ],
   "source": [
    "result = calculate_all_gifts( {\"dave\": {\"fund\": 200, \"recipients\": [\"laura\", \"owen\", \"vick\"]},\n",
    " \"owen\": {\"fund\": 500, \"recipients\": [\"dave\"]},\n",
    " \"amr\": {\"fund\": 150, \"recipients\": [\"vick\", \"owen\"]},\n",
    " \"laura\": {\"fund\": 0, \"recipients\": [\"amr\", \"vick\"]},\n",
    " \"vick\": {\"fund\": 0, \"recipients\": []}})\n",
    "\n",
    "result = distribute_gifts( result, result[\"dave\"])\n",
    "for recipient in result[\"dave\"][\"recipients\"]:\n",
    "    print recipient, result[ recipient]"
   ]
  },
  {
   "cell_type": "markdown",
   "metadata": {},
   "source": [
    "Based on what we saw before, this looks right. We now need to apply everyone's gift giving:"
   ]
  },
  {
   "cell_type": "code",
   "execution_count": 154,
   "metadata": {
    "collapsed": true
   },
   "outputs": [],
   "source": [
    "def distribute_all_gifts( data):\n",
    "    return reduce( distribute_gifts, data.values(), data)"
   ]
  },
  {
   "cell_type": "markdown",
   "metadata": {},
   "source": [
    "The function above is kind of sneaky because I actually re-wrote `distribute_gifts` to make it work. Originally, `distribute_gifts` took the person's data and the overall data as arguments but I switched them so that the overall data could act as an accumulator of changes and the `reduce` simply applied the information contained in each individual's gift data to everyone else.\n",
    "\n",
    "It's sneaky in a second way in that it uses `values()` on the overall data map because we don't care who is doing the gift giving...all the information we need is contained in the person's gift data.\n",
    "\n",
    "Finally, we use the overall data as the starting value.\n",
    "\n",
    "One downside to functional programming can be \"higher order diarrhea\" where you use such abstract abstractions that three weeks later you can't understand what your code is doing. Where possible it is sometimes better not to chain a bunch of cleverness together and instead give names to intermediate computations."
   ]
  },
  {
   "cell_type": "code",
   "execution_count": 155,
   "metadata": {
    "collapsed": false
   },
   "outputs": [
    {
     "name": "stdout",
     "output_type": "stream",
     "text": [
      "laura {'fund': 0, 'given': 0, 'gift': 0, 'recipients': ['amr', 'vick'], 'received': 66}\n",
      "vick {'fund': 0, 'given': 0, 'gift': 0, 'recipients': [], 'received': 141}\n",
      "dave {'fund': 200, 'given': 198, 'gift': 66, 'recipients': ['laura', 'owen', 'vick'], 'received': 502}\n",
      "owen {'fund': 500, 'given': 500, 'gift': 500, 'recipients': ['dave'], 'received': 141}\n",
      "amr {'fund': 150, 'given': 150, 'gift': 75, 'recipients': ['vick', 'owen'], 'received': 0}\n"
     ]
    }
   ],
   "source": [
    "result = calculate_all_gifts( {\"dave\": {\"fund\": 200, \"recipients\": [\"laura\", \"owen\", \"vick\"]},\n",
    " \"owen\": {\"fund\": 500, \"recipients\": [\"dave\"]},\n",
    " \"amr\": {\"fund\": 150, \"recipients\": [\"vick\", \"owen\"]},\n",
    " \"laura\": {\"fund\": 0, \"recipients\": [\"amr\", \"vick\"]},\n",
    " \"vick\": {\"fund\": 0, \"recipients\": []}})\n",
    "\n",
    "result = distribute_all_gifts( result)\n",
    "\n",
    "for k in result.keys():\n",
    "    print k, result[ k]"
   ]
  },
  {
   "cell_type": "markdown",
   "metadata": {},
   "source": [
    "All that remains now is to calculate the net gifting, assuming we had a `calculate_net_gifting` function, `calculate_all_net_gifting` is just a `dmap` of that function. Simplicity itself:"
   ]
  },
  {
   "cell_type": "code",
   "execution_count": 156,
   "metadata": {
    "collapsed": true
   },
   "outputs": [],
   "source": [
    "def calculate_net_gifting( person):\n",
    "    person[ \"net\"] = person[ \"received\"] - person[ \"given\"]\n",
    "    return person"
   ]
  },
  {
   "cell_type": "code",
   "execution_count": 157,
   "metadata": {
    "collapsed": true
   },
   "outputs": [],
   "source": [
    "def calculate_all_net_gifting( data):\n",
    "    return dmap( calculate_net_gifting, data)"
   ]
  },
  {
   "cell_type": "code",
   "execution_count": 158,
   "metadata": {
    "collapsed": false
   },
   "outputs": [
    {
     "name": "stdout",
     "output_type": "stream",
     "text": [
      "laura {'received': 66, 'given': 0, 'recipients': ['amr', 'vick'], 'gift': 0, 'fund': 0, 'net': 66}\n",
      "vick {'received': 141, 'given': 0, 'recipients': [], 'gift': 0, 'fund': 0, 'net': 141}\n",
      "dave {'received': 502, 'given': 198, 'recipients': ['laura', 'owen', 'vick'], 'gift': 66, 'fund': 200, 'net': 304}\n",
      "owen {'received': 141, 'given': 500, 'recipients': ['dave'], 'gift': 500, 'fund': 500, 'net': -359}\n",
      "amr {'received': 0, 'given': 150, 'recipients': ['vick', 'owen'], 'gift': 75, 'fund': 150, 'net': -150}\n"
     ]
    }
   ],
   "source": [
    "result = calculate_all_gifts( {\"dave\": {\"fund\": 200, \"recipients\": [\"laura\", \"owen\", \"vick\"]},\n",
    " \"owen\": {\"fund\": 500, \"recipients\": [\"dave\"]},\n",
    " \"amr\": {\"fund\": 150, \"recipients\": [\"vick\", \"owen\"]},\n",
    " \"laura\": {\"fund\": 0, \"recipients\": [\"amr\", \"vick\"]},\n",
    " \"vick\": {\"fund\": 0, \"recipients\": []}})\n",
    "\n",
    "result = distribute_all_gifts( result)\n",
    "\n",
    "result = calculate_all_net_gifting( result)\n",
    "\n",
    "for k in result.keys():\n",
    "    print k, result[ k]"
   ]
  },
  {
   "cell_type": "markdown",
   "metadata": {},
   "source": [
    "We can confirm that the values of \"net\" match those we expect in the output. What remains now is to tie these all together. We could just stick what we have above in a function. It is at this point that we can really see that we are using a Domain Specific Language (DSL) in a declarative way."
   ]
  },
  {
   "cell_type": "code",
   "execution_count": 159,
   "metadata": {
    "collapsed": true
   },
   "outputs": [],
   "source": [
    "def calculate_net_gifts( data):\n",
    "    result = calculate_all_gifts( data)\n",
    "    result = distribute_all_gifts( result)\n",
    "    result = calculate_all_net_gifting( result)\n",
    "    return result"
   ]
  },
  {
   "cell_type": "code",
   "execution_count": 160,
   "metadata": {
    "collapsed": false
   },
   "outputs": [
    {
     "name": "stdout",
     "output_type": "stream",
     "text": [
      "laura {'received': 66, 'given': 0, 'recipients': ['amr', 'vick'], 'gift': 0, 'fund': 0, 'net': 66}\n",
      "vick {'received': 141, 'given': 0, 'recipients': [], 'gift': 0, 'fund': 0, 'net': 141}\n",
      "dave {'received': 502, 'given': 198, 'recipients': ['laura', 'owen', 'vick'], 'gift': 66, 'fund': 200, 'net': 304}\n",
      "owen {'received': 141, 'given': 500, 'recipients': ['dave'], 'gift': 500, 'fund': 500, 'net': -359}\n",
      "amr {'received': 0, 'given': 150, 'recipients': ['vick', 'owen'], 'gift': 75, 'fund': 150, 'net': -150}\n"
     ]
    }
   ],
   "source": [
    "result = calculate_net_gifts( {\"dave\": {\"fund\": 200, \"recipients\": [\"laura\", \"owen\", \"vick\"]},\n",
    " \"owen\": {\"fund\": 500, \"recipients\": [\"dave\"]},\n",
    " \"amr\": {\"fund\": 150, \"recipients\": [\"vick\", \"owen\"]},\n",
    " \"laura\": {\"fund\": 0, \"recipients\": [\"amr\", \"vick\"]},\n",
    " \"vick\": {\"fund\": 0, \"recipients\": []}})\n",
    "\n",
    "for k in result.keys():\n",
    "    print k, result[ k]"
   ]
  },
  {
   "cell_type": "markdown",
   "metadata": {},
   "source": [
    "Although that's a wee bit verbose given we wrote a function to do exactly what was done:"
   ]
  },
  {
   "cell_type": "code",
   "execution_count": 161,
   "metadata": {
    "collapsed": true
   },
   "outputs": [],
   "source": [
    "calculate_net_gifts = compose([calculate_all_gifts, distribute_all_gifts, calculate_all_net_gifting])"
   ]
  },
  {
   "cell_type": "code",
   "execution_count": 162,
   "metadata": {
    "collapsed": false
   },
   "outputs": [
    {
     "name": "stdout",
     "output_type": "stream",
     "text": [
      "laura {'received': 66, 'given': 0, 'recipients': ['amr', 'vick'], 'gift': 0, 'fund': 0, 'net': 66}\n",
      "vick {'received': 141, 'given': 0, 'recipients': [], 'gift': 0, 'fund': 0, 'net': 141}\n",
      "dave {'received': 502, 'given': 198, 'recipients': ['laura', 'owen', 'vick'], 'gift': 66, 'fund': 200, 'net': 304}\n",
      "owen {'received': 141, 'given': 500, 'recipients': ['dave'], 'gift': 500, 'fund': 500, 'net': -359}\n",
      "amr {'received': 0, 'given': 150, 'recipients': ['vick', 'owen'], 'gift': 75, 'fund': 150, 'net': -150}\n"
     ]
    }
   ],
   "source": [
    "result = calculate_net_gifts( {\"dave\": {\"fund\": 200, \"recipients\": [\"laura\", \"owen\", \"vick\"]},\n",
    " \"owen\": {\"fund\": 500, \"recipients\": [\"dave\"]},\n",
    " \"amr\": {\"fund\": 150, \"recipients\": [\"vick\", \"owen\"]},\n",
    " \"laura\": {\"fund\": 0, \"recipients\": [\"amr\", \"vick\"]},\n",
    " \"vick\": {\"fund\": 0, \"recipients\": []}})\n",
    "\n",
    "for k in result.keys():\n",
    "    print k, result[ k]"
   ]
  },
  {
   "cell_type": "markdown",
   "metadata": {},
   "source": [
    "Sometimes the more verbose way is easier to debug.\n",
    "\n",
    "#### Step 2.\n",
    "\n",
    "Now we can write a display function, `write_output`:"
   ]
  },
  {
   "cell_type": "code",
   "execution_count": 163,
   "metadata": {
    "collapsed": true
   },
   "outputs": [],
   "source": [
    "def write_output( data):\n",
    "    keys = data.keys()\n",
    "    keys.sort()\n",
    "    \n",
    "    for k in keys:\n",
    "        print \"%s %d\" % (k, data[ k][ \"net\"])"
   ]
  },
  {
   "cell_type": "code",
   "execution_count": 164,
   "metadata": {
    "collapsed": false
   },
   "outputs": [
    {
     "name": "stdout",
     "output_type": "stream",
     "text": [
      "amr -150\n",
      "dave 304\n",
      "laura 66\n",
      "owen -359\n",
      "vick 141\n"
     ]
    }
   ],
   "source": [
    "result = calculate_net_gifts( {\"dave\": {\"fund\": 200, \"recipients\": [\"laura\", \"owen\", \"vick\"]},\n",
    " \"owen\": {\"fund\": 500, \"recipients\": [\"dave\"]},\n",
    " \"amr\": {\"fund\": 150, \"recipients\": [\"vick\", \"owen\"]},\n",
    " \"laura\": {\"fund\": 0, \"recipients\": [\"amr\", \"vick\"]},\n",
    " \"vick\": {\"fund\": 0, \"recipients\": []}})\n",
    "\n",
    "write_output( result)"
   ]
  },
  {
   "cell_type": "markdown",
   "metadata": {},
   "source": [
    "This is exactly what we wanted.\n",
    "\n",
    "By cleanly separating our pure and impure functions (except for a bit of mutability we can't avoid in Python), we can easily change what we want to print out if the need arises or where it goes (maybe it goes into a database) or a snarky email get sent at the end of the year.\n",
    "\n",
    "All without changing the actual computation.\n",
    "\n",
    "#### Step 3\n",
    "\n",
    "Our penultimate step involves reading the raw data and creating the initial data structure. Let's review the incoming raw data:\n",
    "\n",
    "```\n",
    "5\n",
    "dave laura owen vick amr\n",
    "dave 200 3 laura owen vick\n",
    "owen 500 1 dave\n",
    "amr 150 2 vick owen\n",
    "laura 0 2 amr vick\n",
    "vick 0 0\n",
    "```\n",
    "\n",
    "There really isn't a compelling reason to use the first two lines in Python. Perhaps there is in C or Java. We don't need the number of recipients either. Basically we just need to take:\n",
    "\n",
    "```\n",
    "dave 200 3 laura owen vick\n",
    "```\n",
    "\n",
    "and turn it into:\n",
    "\n",
    "```\n",
    "(\"dave\" {\"fund\": 200, \"recipients\": [\"laura\", \"owen\", \"vick\"]})\n",
    "```\n",
    "\n",
    "This is going to require some string parsing. You should review the Python documentation on Strings and Regular Expressions but we can use `split`:"
   ]
  },
  {
   "cell_type": "code",
   "execution_count": 165,
   "metadata": {
    "collapsed": false
   },
   "outputs": [],
   "source": [
    "NAME = 0\n",
    "FUND = 1\n",
    "RECIPIENT_START = 3\n",
    "\n",
    "def read_person_data( raw_person_data):\n",
    "    parsed_person_data = raw_person_data.split( \" \")\n",
    "    name = parsed_person_data[ NAME]\n",
    "    fund = int( parsed_person_data[ FUND])\n",
    "    recipients = parsed_person_data[ RECIPIENT_START:]\n",
    "    \n",
    "    return (name, {\"fund\": fund, \"recipients\": recipients})"
   ]
  },
  {
   "cell_type": "code",
   "execution_count": 166,
   "metadata": {
    "collapsed": false
   },
   "outputs": [
    {
     "name": "stdout",
     "output_type": "stream",
     "text": [
      "('dave', {'fund': 200, 'recipients': ['laura', 'owen', 'vick']})\n",
      "('laura', {'fund': 0, 'recipients': ['amr', 'vick']})\n",
      "('vick', {'fund': 0, 'recipients': []})\n"
     ]
    }
   ],
   "source": [
    "print read_person_data( \"dave 200 3 laura owen vick\")\n",
    "print read_person_data( \"laura 0 2 amr vick\")\n",
    "print read_person_data( \"vick 0 0\")"
   ]
  },
  {
   "cell_type": "markdown",
   "metadata": {},
   "source": [
    "That works very nicely. I used named constants and intermediate values to add semantic meaning to what I was doing. We need to apply it to all the lines of data:"
   ]
  },
  {
   "cell_type": "code",
   "execution_count": 167,
   "metadata": {
    "collapsed": true
   },
   "outputs": [],
   "source": [
    "def read_input( raw_data):\n",
    "    lines = raw_data.split( \"\\n\")\n",
    "    parsed_data = map( read_person_data, lines[ 2:])\n",
    "    return dict( parsed_data)"
   ]
  },
  {
   "cell_type": "code",
   "execution_count": 168,
   "metadata": {
    "collapsed": false
   },
   "outputs": [
    {
     "name": "stdout",
     "output_type": "stream",
     "text": [
      "{'laura': {'fund': 0, 'recipients': ['amr', 'vick']}, 'vick': {'fund': 0, 'recipients': []}, 'dave': {'fund': 200, 'recipients': ['laura', 'owen', 'vick']}, 'owen': {'fund': 500, 'recipients': ['dave']}, 'amr': {'fund': 150, 'recipients': ['vick', 'owen']}}\n"
     ]
    }
   ],
   "source": [
    "# \"\"\" is used for multiline strings in Python\n",
    "\n",
    "raw_data = \"\"\"5\n",
    "dave laura owen vick amr\n",
    "dave 200 3 laura owen vick\n",
    "owen 500 1 dave\n",
    "amr 150 2 vick owen\n",
    "laura 0 2 amr vick\n",
    "vick 0 0\"\"\"\n",
    "\n",
    "print read_input(raw_data)"
   ]
  },
  {
   "cell_type": "markdown",
   "metadata": {},
   "source": [
    "#### Step 4\n",
    "\n",
    "Now we're mostly done. We just need to create the outer function, `solve`:"
   ]
  },
  {
   "cell_type": "code",
   "execution_count": 169,
   "metadata": {
    "collapsed": true
   },
   "outputs": [],
   "source": [
    "def solve( raw_data):\n",
    "    data = read_input( raw_data)\n",
    "    result = calculate_net_gifts( data)\n",
    "    write_output( result)"
   ]
  },
  {
   "cell_type": "code",
   "execution_count": 170,
   "metadata": {
    "collapsed": false
   },
   "outputs": [
    {
     "name": "stdout",
     "output_type": "stream",
     "text": [
      "amr -150\n",
      "dave 304\n",
      "laura 66\n",
      "owen -359\n",
      "vick 141\n"
     ]
    }
   ],
   "source": [
    "raw_data = \"\"\"5\n",
    "dave laura owen vick amr\n",
    "dave 200 3 laura owen vick\n",
    "owen 500 1 dave\n",
    "amr 150 2 vick owen\n",
    "laura 0 2 amr vick\n",
    "vick 0 0\"\"\"\n",
    "\n",
    "solve( raw_data)"
   ]
  },
  {
   "cell_type": "markdown",
   "metadata": {},
   "source": [
    "Let's do it with data we haven't seen before:"
   ]
  },
  {
   "cell_type": "code",
   "execution_count": 171,
   "metadata": {
    "collapsed": false
   },
   "outputs": [
    {
     "name": "stdout",
     "output_type": "stream",
     "text": [
      "dave 27\n",
      "liz -3\n",
      "steve -23\n"
     ]
    }
   ],
   "source": [
    "raw_data = \"\"\"3\n",
    "liz steve dave\n",
    "liz 30 1 steve\n",
    "steve 55 2 liz dave\n",
    "dave 0 2 steve liz\"\"\"\n",
    "\n",
    "solve( raw_data)"
   ]
  },
  {
   "cell_type": "markdown",
   "metadata": {},
   "source": [
    "As I mentioned at the start, this program was a bit more verbose than it needed to be because I wanted to show you the steps of a data flow program. The \"interior\" pure function part had three steps that were composed. Exactly where you draw the line depends on how complicated the computation is. You almost certainly want to stop at any point there is something testable. Of course, you can always break things out later if you find you didn't pick the right granularity."
   ]
  },
  {
   "cell_type": "markdown",
   "metadata": {},
   "source": [
    "## Wrapping Up\n",
    "\n",
    "Of course, it's not enough to know about the functional programming part to program in Python in general. You should probably at least be familiar with:\n",
    "\n",
    "* reading and writing text files including CSV and TSV.\n",
    "* various \"pickling\" and \"unpickling\" approaches including the binary format for Python and JSON.\n",
    "* string functions including formatting\n",
    "* console input and output\n",
    "* regular expressions\n",
    "* general functions and methods for Lists, Dicts, Sets, Tuples.\n",
    "* random number generation including setting the generator *seed*\n",
    "\n",
    "### More Functional Style\n",
    "\n",
    "You might also notice that to program in a functional style in Python sometimes requires a bit of a wild west frontier attitude where you often have to write your own abstractions that would be provided in a true functional language. It turns out that some nice people have done that for you.\n",
    "\n",
    "One such library is [toolz](https://github.com/pytoolz/toolz/) that provides a number of typical functional programming abstractions for doing functional programming in Python.\n",
    "\n",
    "If you want to be a real diehard functional programmer, you may want to consider immutable data structures. [pyrsistent](https://github.com/tobgu/pyrsistent) provides a library of immutable data structures for use in Python. [pyrthon](https://github.com/tobgu/pyrthon/) makes the *literals* use the `pyrsistent` immutable data structures.\n",
    "\n",
    "If you want to go absolutely hog wild, you can also use [Hy](http://docs.hylang.org/en/latest/) which is a language that uses Lisp syntax but compiles to the Python Abstract Syntax Tree (AST). It's just an alternative, S-expression based way of writing Python but when used in conjuction with the other libraries, it gives you a powerful functional programming language that includes macros.\n",
    "\n",
    "Using all four would be some seriously hardcore function programming Python. None of which will be required in the class. Using Hy is not permissible.\n",
    "\n",
    "### Further Work\n",
    "\n",
    "If you are reading this before the semester begins, you might try out \"Python in a Functional Style\" on some additional [Programming Challenges](https://uva.onlinejudge.org/index.php?option=com_onlinejudge&Itemid=8&category=1)."
   ]
  },
  {
   "cell_type": "code",
   "execution_count": null,
   "metadata": {
    "collapsed": true
   },
   "outputs": [],
   "source": []
  }
 ],
 "metadata": {
  "kernelspec": {
   "display_name": "Python 2",
   "language": "python",
   "name": "python2"
  },
  "language_info": {
   "codemirror_mode": {
    "name": "ipython",
    "version": 2
   },
   "file_extension": ".py",
   "mimetype": "text/x-python",
   "name": "python",
   "nbconvert_exporter": "python",
   "pygments_lexer": "ipython2",
   "version": "2.7.12"
  }
 },
 "nbformat": 4,
 "nbformat_minor": 0
}
